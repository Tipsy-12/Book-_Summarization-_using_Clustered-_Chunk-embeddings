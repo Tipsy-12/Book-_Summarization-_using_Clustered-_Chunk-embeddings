{
  "nbformat": 4,
  "nbformat_minor": 0,
  "metadata": {
    "colab": {
      "provenance": []
    },
    "kernelspec": {
      "name": "python3",
      "display_name": "Python 3"
    },
    "language_info": {
      "name": "python"
    },
    "widgets": {
      "application/vnd.jupyter.widget-state+json": {
        "def61258926245b1aea95ba379d9b886": {
          "model_module": "@jupyter-widgets/controls",
          "model_name": "HBoxModel",
          "model_module_version": "1.5.0",
          "state": {
            "_dom_classes": [],
            "_model_module": "@jupyter-widgets/controls",
            "_model_module_version": "1.5.0",
            "_model_name": "HBoxModel",
            "_view_count": null,
            "_view_module": "@jupyter-widgets/controls",
            "_view_module_version": "1.5.0",
            "_view_name": "HBoxView",
            "box_style": "",
            "children": [
              "IPY_MODEL_5b046237c59441b49599ba474763e963",
              "IPY_MODEL_0c312ac646f34380aa37e1e2331ea568",
              "IPY_MODEL_58260880d590471395fb08416384824c"
            ],
            "layout": "IPY_MODEL_b88e7ae98fbe4c76a9b6e01c7246f1d4"
          }
        },
        "5b046237c59441b49599ba474763e963": {
          "model_module": "@jupyter-widgets/controls",
          "model_name": "HTMLModel",
          "model_module_version": "1.5.0",
          "state": {
            "_dom_classes": [],
            "_model_module": "@jupyter-widgets/controls",
            "_model_module_version": "1.5.0",
            "_model_name": "HTMLModel",
            "_view_count": null,
            "_view_module": "@jupyter-widgets/controls",
            "_view_module_version": "1.5.0",
            "_view_name": "HTMLView",
            "description": "",
            "description_tooltip": null,
            "layout": "IPY_MODEL_01b610f8a5194190b68ca0b646e46a26",
            "placeholder": "​",
            "style": "IPY_MODEL_5205abee3fbd486492fedf6fe10e6217",
            "value": "tokenizer_config.json: 100%"
          }
        },
        "0c312ac646f34380aa37e1e2331ea568": {
          "model_module": "@jupyter-widgets/controls",
          "model_name": "FloatProgressModel",
          "model_module_version": "1.5.0",
          "state": {
            "_dom_classes": [],
            "_model_module": "@jupyter-widgets/controls",
            "_model_module_version": "1.5.0",
            "_model_name": "FloatProgressModel",
            "_view_count": null,
            "_view_module": "@jupyter-widgets/controls",
            "_view_module_version": "1.5.0",
            "_view_name": "ProgressView",
            "bar_style": "success",
            "description": "",
            "description_tooltip": null,
            "layout": "IPY_MODEL_cd981c14433c4a419a0e38bea542cdde",
            "max": 25,
            "min": 0,
            "orientation": "horizontal",
            "style": "IPY_MODEL_e7674650e15641188e3cd4cc0436abdc",
            "value": 25
          }
        },
        "58260880d590471395fb08416384824c": {
          "model_module": "@jupyter-widgets/controls",
          "model_name": "HTMLModel",
          "model_module_version": "1.5.0",
          "state": {
            "_dom_classes": [],
            "_model_module": "@jupyter-widgets/controls",
            "_model_module_version": "1.5.0",
            "_model_name": "HTMLModel",
            "_view_count": null,
            "_view_module": "@jupyter-widgets/controls",
            "_view_module_version": "1.5.0",
            "_view_name": "HTMLView",
            "description": "",
            "description_tooltip": null,
            "layout": "IPY_MODEL_5d82039ebe064503b9d377217a10400f",
            "placeholder": "​",
            "style": "IPY_MODEL_f9d41d1e836c408d8b04c9511e8bd714",
            "value": " 25.0/25.0 [00:00&lt;00:00, 2.19kB/s]"
          }
        },
        "b88e7ae98fbe4c76a9b6e01c7246f1d4": {
          "model_module": "@jupyter-widgets/base",
          "model_name": "LayoutModel",
          "model_module_version": "1.2.0",
          "state": {
            "_model_module": "@jupyter-widgets/base",
            "_model_module_version": "1.2.0",
            "_model_name": "LayoutModel",
            "_view_count": null,
            "_view_module": "@jupyter-widgets/base",
            "_view_module_version": "1.2.0",
            "_view_name": "LayoutView",
            "align_content": null,
            "align_items": null,
            "align_self": null,
            "border": null,
            "bottom": null,
            "display": null,
            "flex": null,
            "flex_flow": null,
            "grid_area": null,
            "grid_auto_columns": null,
            "grid_auto_flow": null,
            "grid_auto_rows": null,
            "grid_column": null,
            "grid_gap": null,
            "grid_row": null,
            "grid_template_areas": null,
            "grid_template_columns": null,
            "grid_template_rows": null,
            "height": null,
            "justify_content": null,
            "justify_items": null,
            "left": null,
            "margin": null,
            "max_height": null,
            "max_width": null,
            "min_height": null,
            "min_width": null,
            "object_fit": null,
            "object_position": null,
            "order": null,
            "overflow": null,
            "overflow_x": null,
            "overflow_y": null,
            "padding": null,
            "right": null,
            "top": null,
            "visibility": null,
            "width": null
          }
        },
        "01b610f8a5194190b68ca0b646e46a26": {
          "model_module": "@jupyter-widgets/base",
          "model_name": "LayoutModel",
          "model_module_version": "1.2.0",
          "state": {
            "_model_module": "@jupyter-widgets/base",
            "_model_module_version": "1.2.0",
            "_model_name": "LayoutModel",
            "_view_count": null,
            "_view_module": "@jupyter-widgets/base",
            "_view_module_version": "1.2.0",
            "_view_name": "LayoutView",
            "align_content": null,
            "align_items": null,
            "align_self": null,
            "border": null,
            "bottom": null,
            "display": null,
            "flex": null,
            "flex_flow": null,
            "grid_area": null,
            "grid_auto_columns": null,
            "grid_auto_flow": null,
            "grid_auto_rows": null,
            "grid_column": null,
            "grid_gap": null,
            "grid_row": null,
            "grid_template_areas": null,
            "grid_template_columns": null,
            "grid_template_rows": null,
            "height": null,
            "justify_content": null,
            "justify_items": null,
            "left": null,
            "margin": null,
            "max_height": null,
            "max_width": null,
            "min_height": null,
            "min_width": null,
            "object_fit": null,
            "object_position": null,
            "order": null,
            "overflow": null,
            "overflow_x": null,
            "overflow_y": null,
            "padding": null,
            "right": null,
            "top": null,
            "visibility": null,
            "width": null
          }
        },
        "5205abee3fbd486492fedf6fe10e6217": {
          "model_module": "@jupyter-widgets/controls",
          "model_name": "DescriptionStyleModel",
          "model_module_version": "1.5.0",
          "state": {
            "_model_module": "@jupyter-widgets/controls",
            "_model_module_version": "1.5.0",
            "_model_name": "DescriptionStyleModel",
            "_view_count": null,
            "_view_module": "@jupyter-widgets/base",
            "_view_module_version": "1.2.0",
            "_view_name": "StyleView",
            "description_width": ""
          }
        },
        "cd981c14433c4a419a0e38bea542cdde": {
          "model_module": "@jupyter-widgets/base",
          "model_name": "LayoutModel",
          "model_module_version": "1.2.0",
          "state": {
            "_model_module": "@jupyter-widgets/base",
            "_model_module_version": "1.2.0",
            "_model_name": "LayoutModel",
            "_view_count": null,
            "_view_module": "@jupyter-widgets/base",
            "_view_module_version": "1.2.0",
            "_view_name": "LayoutView",
            "align_content": null,
            "align_items": null,
            "align_self": null,
            "border": null,
            "bottom": null,
            "display": null,
            "flex": null,
            "flex_flow": null,
            "grid_area": null,
            "grid_auto_columns": null,
            "grid_auto_flow": null,
            "grid_auto_rows": null,
            "grid_column": null,
            "grid_gap": null,
            "grid_row": null,
            "grid_template_areas": null,
            "grid_template_columns": null,
            "grid_template_rows": null,
            "height": null,
            "justify_content": null,
            "justify_items": null,
            "left": null,
            "margin": null,
            "max_height": null,
            "max_width": null,
            "min_height": null,
            "min_width": null,
            "object_fit": null,
            "object_position": null,
            "order": null,
            "overflow": null,
            "overflow_x": null,
            "overflow_y": null,
            "padding": null,
            "right": null,
            "top": null,
            "visibility": null,
            "width": null
          }
        },
        "e7674650e15641188e3cd4cc0436abdc": {
          "model_module": "@jupyter-widgets/controls",
          "model_name": "ProgressStyleModel",
          "model_module_version": "1.5.0",
          "state": {
            "_model_module": "@jupyter-widgets/controls",
            "_model_module_version": "1.5.0",
            "_model_name": "ProgressStyleModel",
            "_view_count": null,
            "_view_module": "@jupyter-widgets/base",
            "_view_module_version": "1.2.0",
            "_view_name": "StyleView",
            "bar_color": null,
            "description_width": ""
          }
        },
        "5d82039ebe064503b9d377217a10400f": {
          "model_module": "@jupyter-widgets/base",
          "model_name": "LayoutModel",
          "model_module_version": "1.2.0",
          "state": {
            "_model_module": "@jupyter-widgets/base",
            "_model_module_version": "1.2.0",
            "_model_name": "LayoutModel",
            "_view_count": null,
            "_view_module": "@jupyter-widgets/base",
            "_view_module_version": "1.2.0",
            "_view_name": "LayoutView",
            "align_content": null,
            "align_items": null,
            "align_self": null,
            "border": null,
            "bottom": null,
            "display": null,
            "flex": null,
            "flex_flow": null,
            "grid_area": null,
            "grid_auto_columns": null,
            "grid_auto_flow": null,
            "grid_auto_rows": null,
            "grid_column": null,
            "grid_gap": null,
            "grid_row": null,
            "grid_template_areas": null,
            "grid_template_columns": null,
            "grid_template_rows": null,
            "height": null,
            "justify_content": null,
            "justify_items": null,
            "left": null,
            "margin": null,
            "max_height": null,
            "max_width": null,
            "min_height": null,
            "min_width": null,
            "object_fit": null,
            "object_position": null,
            "order": null,
            "overflow": null,
            "overflow_x": null,
            "overflow_y": null,
            "padding": null,
            "right": null,
            "top": null,
            "visibility": null,
            "width": null
          }
        },
        "f9d41d1e836c408d8b04c9511e8bd714": {
          "model_module": "@jupyter-widgets/controls",
          "model_name": "DescriptionStyleModel",
          "model_module_version": "1.5.0",
          "state": {
            "_model_module": "@jupyter-widgets/controls",
            "_model_module_version": "1.5.0",
            "_model_name": "DescriptionStyleModel",
            "_view_count": null,
            "_view_module": "@jupyter-widgets/base",
            "_view_module_version": "1.2.0",
            "_view_name": "StyleView",
            "description_width": ""
          }
        },
        "58fe3885b61746d9b3959000b47e40c3": {
          "model_module": "@jupyter-widgets/controls",
          "model_name": "HBoxModel",
          "model_module_version": "1.5.0",
          "state": {
            "_dom_classes": [],
            "_model_module": "@jupyter-widgets/controls",
            "_model_module_version": "1.5.0",
            "_model_name": "HBoxModel",
            "_view_count": null,
            "_view_module": "@jupyter-widgets/controls",
            "_view_module_version": "1.5.0",
            "_view_name": "HBoxView",
            "box_style": "",
            "children": [
              "IPY_MODEL_a07d03f963c044cb978589f565b48e7f",
              "IPY_MODEL_9dcdb7cd664f4822acd94c35fb1ebda6",
              "IPY_MODEL_f6e827ad7ba04c69a9ccbdcb6664a237"
            ],
            "layout": "IPY_MODEL_61215a57cb764ba8950f5e727a4f0a32"
          }
        },
        "a07d03f963c044cb978589f565b48e7f": {
          "model_module": "@jupyter-widgets/controls",
          "model_name": "HTMLModel",
          "model_module_version": "1.5.0",
          "state": {
            "_dom_classes": [],
            "_model_module": "@jupyter-widgets/controls",
            "_model_module_version": "1.5.0",
            "_model_name": "HTMLModel",
            "_view_count": null,
            "_view_module": "@jupyter-widgets/controls",
            "_view_module_version": "1.5.0",
            "_view_name": "HTMLView",
            "description": "",
            "description_tooltip": null,
            "layout": "IPY_MODEL_b4de8afe871e4d8baf02de22a7df81a1",
            "placeholder": "​",
            "style": "IPY_MODEL_675364346ea3494fb7568222465e2947",
            "value": "config.json: 100%"
          }
        },
        "9dcdb7cd664f4822acd94c35fb1ebda6": {
          "model_module": "@jupyter-widgets/controls",
          "model_name": "FloatProgressModel",
          "model_module_version": "1.5.0",
          "state": {
            "_dom_classes": [],
            "_model_module": "@jupyter-widgets/controls",
            "_model_module_version": "1.5.0",
            "_model_name": "FloatProgressModel",
            "_view_count": null,
            "_view_module": "@jupyter-widgets/controls",
            "_view_module_version": "1.5.0",
            "_view_name": "ProgressView",
            "bar_style": "success",
            "description": "",
            "description_tooltip": null,
            "layout": "IPY_MODEL_a48568a6a4994352b1639e17dde7abf6",
            "max": 482,
            "min": 0,
            "orientation": "horizontal",
            "style": "IPY_MODEL_dec5cde5ef5a40f78b70d250f4665755",
            "value": 482
          }
        },
        "f6e827ad7ba04c69a9ccbdcb6664a237": {
          "model_module": "@jupyter-widgets/controls",
          "model_name": "HTMLModel",
          "model_module_version": "1.5.0",
          "state": {
            "_dom_classes": [],
            "_model_module": "@jupyter-widgets/controls",
            "_model_module_version": "1.5.0",
            "_model_name": "HTMLModel",
            "_view_count": null,
            "_view_module": "@jupyter-widgets/controls",
            "_view_module_version": "1.5.0",
            "_view_name": "HTMLView",
            "description": "",
            "description_tooltip": null,
            "layout": "IPY_MODEL_46fa839160364e6ab71eb6e299c594af",
            "placeholder": "​",
            "style": "IPY_MODEL_06e5eff635bf4bd395dc1af4d24a015a",
            "value": " 482/482 [00:00&lt;00:00, 46.1kB/s]"
          }
        },
        "61215a57cb764ba8950f5e727a4f0a32": {
          "model_module": "@jupyter-widgets/base",
          "model_name": "LayoutModel",
          "model_module_version": "1.2.0",
          "state": {
            "_model_module": "@jupyter-widgets/base",
            "_model_module_version": "1.2.0",
            "_model_name": "LayoutModel",
            "_view_count": null,
            "_view_module": "@jupyter-widgets/base",
            "_view_module_version": "1.2.0",
            "_view_name": "LayoutView",
            "align_content": null,
            "align_items": null,
            "align_self": null,
            "border": null,
            "bottom": null,
            "display": null,
            "flex": null,
            "flex_flow": null,
            "grid_area": null,
            "grid_auto_columns": null,
            "grid_auto_flow": null,
            "grid_auto_rows": null,
            "grid_column": null,
            "grid_gap": null,
            "grid_row": null,
            "grid_template_areas": null,
            "grid_template_columns": null,
            "grid_template_rows": null,
            "height": null,
            "justify_content": null,
            "justify_items": null,
            "left": null,
            "margin": null,
            "max_height": null,
            "max_width": null,
            "min_height": null,
            "min_width": null,
            "object_fit": null,
            "object_position": null,
            "order": null,
            "overflow": null,
            "overflow_x": null,
            "overflow_y": null,
            "padding": null,
            "right": null,
            "top": null,
            "visibility": null,
            "width": null
          }
        },
        "b4de8afe871e4d8baf02de22a7df81a1": {
          "model_module": "@jupyter-widgets/base",
          "model_name": "LayoutModel",
          "model_module_version": "1.2.0",
          "state": {
            "_model_module": "@jupyter-widgets/base",
            "_model_module_version": "1.2.0",
            "_model_name": "LayoutModel",
            "_view_count": null,
            "_view_module": "@jupyter-widgets/base",
            "_view_module_version": "1.2.0",
            "_view_name": "LayoutView",
            "align_content": null,
            "align_items": null,
            "align_self": null,
            "border": null,
            "bottom": null,
            "display": null,
            "flex": null,
            "flex_flow": null,
            "grid_area": null,
            "grid_auto_columns": null,
            "grid_auto_flow": null,
            "grid_auto_rows": null,
            "grid_column": null,
            "grid_gap": null,
            "grid_row": null,
            "grid_template_areas": null,
            "grid_template_columns": null,
            "grid_template_rows": null,
            "height": null,
            "justify_content": null,
            "justify_items": null,
            "left": null,
            "margin": null,
            "max_height": null,
            "max_width": null,
            "min_height": null,
            "min_width": null,
            "object_fit": null,
            "object_position": null,
            "order": null,
            "overflow": null,
            "overflow_x": null,
            "overflow_y": null,
            "padding": null,
            "right": null,
            "top": null,
            "visibility": null,
            "width": null
          }
        },
        "675364346ea3494fb7568222465e2947": {
          "model_module": "@jupyter-widgets/controls",
          "model_name": "DescriptionStyleModel",
          "model_module_version": "1.5.0",
          "state": {
            "_model_module": "@jupyter-widgets/controls",
            "_model_module_version": "1.5.0",
            "_model_name": "DescriptionStyleModel",
            "_view_count": null,
            "_view_module": "@jupyter-widgets/base",
            "_view_module_version": "1.2.0",
            "_view_name": "StyleView",
            "description_width": ""
          }
        },
        "a48568a6a4994352b1639e17dde7abf6": {
          "model_module": "@jupyter-widgets/base",
          "model_name": "LayoutModel",
          "model_module_version": "1.2.0",
          "state": {
            "_model_module": "@jupyter-widgets/base",
            "_model_module_version": "1.2.0",
            "_model_name": "LayoutModel",
            "_view_count": null,
            "_view_module": "@jupyter-widgets/base",
            "_view_module_version": "1.2.0",
            "_view_name": "LayoutView",
            "align_content": null,
            "align_items": null,
            "align_self": null,
            "border": null,
            "bottom": null,
            "display": null,
            "flex": null,
            "flex_flow": null,
            "grid_area": null,
            "grid_auto_columns": null,
            "grid_auto_flow": null,
            "grid_auto_rows": null,
            "grid_column": null,
            "grid_gap": null,
            "grid_row": null,
            "grid_template_areas": null,
            "grid_template_columns": null,
            "grid_template_rows": null,
            "height": null,
            "justify_content": null,
            "justify_items": null,
            "left": null,
            "margin": null,
            "max_height": null,
            "max_width": null,
            "min_height": null,
            "min_width": null,
            "object_fit": null,
            "object_position": null,
            "order": null,
            "overflow": null,
            "overflow_x": null,
            "overflow_y": null,
            "padding": null,
            "right": null,
            "top": null,
            "visibility": null,
            "width": null
          }
        },
        "dec5cde5ef5a40f78b70d250f4665755": {
          "model_module": "@jupyter-widgets/controls",
          "model_name": "ProgressStyleModel",
          "model_module_version": "1.5.0",
          "state": {
            "_model_module": "@jupyter-widgets/controls",
            "_model_module_version": "1.5.0",
            "_model_name": "ProgressStyleModel",
            "_view_count": null,
            "_view_module": "@jupyter-widgets/base",
            "_view_module_version": "1.2.0",
            "_view_name": "StyleView",
            "bar_color": null,
            "description_width": ""
          }
        },
        "46fa839160364e6ab71eb6e299c594af": {
          "model_module": "@jupyter-widgets/base",
          "model_name": "LayoutModel",
          "model_module_version": "1.2.0",
          "state": {
            "_model_module": "@jupyter-widgets/base",
            "_model_module_version": "1.2.0",
            "_model_name": "LayoutModel",
            "_view_count": null,
            "_view_module": "@jupyter-widgets/base",
            "_view_module_version": "1.2.0",
            "_view_name": "LayoutView",
            "align_content": null,
            "align_items": null,
            "align_self": null,
            "border": null,
            "bottom": null,
            "display": null,
            "flex": null,
            "flex_flow": null,
            "grid_area": null,
            "grid_auto_columns": null,
            "grid_auto_flow": null,
            "grid_auto_rows": null,
            "grid_column": null,
            "grid_gap": null,
            "grid_row": null,
            "grid_template_areas": null,
            "grid_template_columns": null,
            "grid_template_rows": null,
            "height": null,
            "justify_content": null,
            "justify_items": null,
            "left": null,
            "margin": null,
            "max_height": null,
            "max_width": null,
            "min_height": null,
            "min_width": null,
            "object_fit": null,
            "object_position": null,
            "order": null,
            "overflow": null,
            "overflow_x": null,
            "overflow_y": null,
            "padding": null,
            "right": null,
            "top": null,
            "visibility": null,
            "width": null
          }
        },
        "06e5eff635bf4bd395dc1af4d24a015a": {
          "model_module": "@jupyter-widgets/controls",
          "model_name": "DescriptionStyleModel",
          "model_module_version": "1.5.0",
          "state": {
            "_model_module": "@jupyter-widgets/controls",
            "_model_module_version": "1.5.0",
            "_model_name": "DescriptionStyleModel",
            "_view_count": null,
            "_view_module": "@jupyter-widgets/base",
            "_view_module_version": "1.2.0",
            "_view_name": "StyleView",
            "description_width": ""
          }
        },
        "89ad56b908064e20a33437ded897367e": {
          "model_module": "@jupyter-widgets/controls",
          "model_name": "HBoxModel",
          "model_module_version": "1.5.0",
          "state": {
            "_dom_classes": [],
            "_model_module": "@jupyter-widgets/controls",
            "_model_module_version": "1.5.0",
            "_model_name": "HBoxModel",
            "_view_count": null,
            "_view_module": "@jupyter-widgets/controls",
            "_view_module_version": "1.5.0",
            "_view_name": "HBoxView",
            "box_style": "",
            "children": [
              "IPY_MODEL_222aef39376a4eafb6e0ba41feae7dc9",
              "IPY_MODEL_f680c08a4cb74bf6970494de2a5ffe0a",
              "IPY_MODEL_18458bf2e37944dda16041e8cff82615"
            ],
            "layout": "IPY_MODEL_0c7f1f739a604542b8f9c3b0c77d7d1a"
          }
        },
        "222aef39376a4eafb6e0ba41feae7dc9": {
          "model_module": "@jupyter-widgets/controls",
          "model_name": "HTMLModel",
          "model_module_version": "1.5.0",
          "state": {
            "_dom_classes": [],
            "_model_module": "@jupyter-widgets/controls",
            "_model_module_version": "1.5.0",
            "_model_name": "HTMLModel",
            "_view_count": null,
            "_view_module": "@jupyter-widgets/controls",
            "_view_module_version": "1.5.0",
            "_view_name": "HTMLView",
            "description": "",
            "description_tooltip": null,
            "layout": "IPY_MODEL_da881acfd80b45929625293677a73243",
            "placeholder": "​",
            "style": "IPY_MODEL_e582c921bb7a40ea818d782118c16a2c",
            "value": "vocab.json: 100%"
          }
        },
        "f680c08a4cb74bf6970494de2a5ffe0a": {
          "model_module": "@jupyter-widgets/controls",
          "model_name": "FloatProgressModel",
          "model_module_version": "1.5.0",
          "state": {
            "_dom_classes": [],
            "_model_module": "@jupyter-widgets/controls",
            "_model_module_version": "1.5.0",
            "_model_name": "FloatProgressModel",
            "_view_count": null,
            "_view_module": "@jupyter-widgets/controls",
            "_view_module_version": "1.5.0",
            "_view_name": "ProgressView",
            "bar_style": "success",
            "description": "",
            "description_tooltip": null,
            "layout": "IPY_MODEL_11fb0d25da07497e913c7f4b93f27943",
            "max": 898823,
            "min": 0,
            "orientation": "horizontal",
            "style": "IPY_MODEL_e033cb629960494e88a313504034677d",
            "value": 898823
          }
        },
        "18458bf2e37944dda16041e8cff82615": {
          "model_module": "@jupyter-widgets/controls",
          "model_name": "HTMLModel",
          "model_module_version": "1.5.0",
          "state": {
            "_dom_classes": [],
            "_model_module": "@jupyter-widgets/controls",
            "_model_module_version": "1.5.0",
            "_model_name": "HTMLModel",
            "_view_count": null,
            "_view_module": "@jupyter-widgets/controls",
            "_view_module_version": "1.5.0",
            "_view_name": "HTMLView",
            "description": "",
            "description_tooltip": null,
            "layout": "IPY_MODEL_0383d24d70244334af8de33a7609e378",
            "placeholder": "​",
            "style": "IPY_MODEL_85423b75b3094118b321650b44de07d8",
            "value": " 899k/899k [00:00&lt;00:00, 13.5MB/s]"
          }
        },
        "0c7f1f739a604542b8f9c3b0c77d7d1a": {
          "model_module": "@jupyter-widgets/base",
          "model_name": "LayoutModel",
          "model_module_version": "1.2.0",
          "state": {
            "_model_module": "@jupyter-widgets/base",
            "_model_module_version": "1.2.0",
            "_model_name": "LayoutModel",
            "_view_count": null,
            "_view_module": "@jupyter-widgets/base",
            "_view_module_version": "1.2.0",
            "_view_name": "LayoutView",
            "align_content": null,
            "align_items": null,
            "align_self": null,
            "border": null,
            "bottom": null,
            "display": null,
            "flex": null,
            "flex_flow": null,
            "grid_area": null,
            "grid_auto_columns": null,
            "grid_auto_flow": null,
            "grid_auto_rows": null,
            "grid_column": null,
            "grid_gap": null,
            "grid_row": null,
            "grid_template_areas": null,
            "grid_template_columns": null,
            "grid_template_rows": null,
            "height": null,
            "justify_content": null,
            "justify_items": null,
            "left": null,
            "margin": null,
            "max_height": null,
            "max_width": null,
            "min_height": null,
            "min_width": null,
            "object_fit": null,
            "object_position": null,
            "order": null,
            "overflow": null,
            "overflow_x": null,
            "overflow_y": null,
            "padding": null,
            "right": null,
            "top": null,
            "visibility": null,
            "width": null
          }
        },
        "da881acfd80b45929625293677a73243": {
          "model_module": "@jupyter-widgets/base",
          "model_name": "LayoutModel",
          "model_module_version": "1.2.0",
          "state": {
            "_model_module": "@jupyter-widgets/base",
            "_model_module_version": "1.2.0",
            "_model_name": "LayoutModel",
            "_view_count": null,
            "_view_module": "@jupyter-widgets/base",
            "_view_module_version": "1.2.0",
            "_view_name": "LayoutView",
            "align_content": null,
            "align_items": null,
            "align_self": null,
            "border": null,
            "bottom": null,
            "display": null,
            "flex": null,
            "flex_flow": null,
            "grid_area": null,
            "grid_auto_columns": null,
            "grid_auto_flow": null,
            "grid_auto_rows": null,
            "grid_column": null,
            "grid_gap": null,
            "grid_row": null,
            "grid_template_areas": null,
            "grid_template_columns": null,
            "grid_template_rows": null,
            "height": null,
            "justify_content": null,
            "justify_items": null,
            "left": null,
            "margin": null,
            "max_height": null,
            "max_width": null,
            "min_height": null,
            "min_width": null,
            "object_fit": null,
            "object_position": null,
            "order": null,
            "overflow": null,
            "overflow_x": null,
            "overflow_y": null,
            "padding": null,
            "right": null,
            "top": null,
            "visibility": null,
            "width": null
          }
        },
        "e582c921bb7a40ea818d782118c16a2c": {
          "model_module": "@jupyter-widgets/controls",
          "model_name": "DescriptionStyleModel",
          "model_module_version": "1.5.0",
          "state": {
            "_model_module": "@jupyter-widgets/controls",
            "_model_module_version": "1.5.0",
            "_model_name": "DescriptionStyleModel",
            "_view_count": null,
            "_view_module": "@jupyter-widgets/base",
            "_view_module_version": "1.2.0",
            "_view_name": "StyleView",
            "description_width": ""
          }
        },
        "11fb0d25da07497e913c7f4b93f27943": {
          "model_module": "@jupyter-widgets/base",
          "model_name": "LayoutModel",
          "model_module_version": "1.2.0",
          "state": {
            "_model_module": "@jupyter-widgets/base",
            "_model_module_version": "1.2.0",
            "_model_name": "LayoutModel",
            "_view_count": null,
            "_view_module": "@jupyter-widgets/base",
            "_view_module_version": "1.2.0",
            "_view_name": "LayoutView",
            "align_content": null,
            "align_items": null,
            "align_self": null,
            "border": null,
            "bottom": null,
            "display": null,
            "flex": null,
            "flex_flow": null,
            "grid_area": null,
            "grid_auto_columns": null,
            "grid_auto_flow": null,
            "grid_auto_rows": null,
            "grid_column": null,
            "grid_gap": null,
            "grid_row": null,
            "grid_template_areas": null,
            "grid_template_columns": null,
            "grid_template_rows": null,
            "height": null,
            "justify_content": null,
            "justify_items": null,
            "left": null,
            "margin": null,
            "max_height": null,
            "max_width": null,
            "min_height": null,
            "min_width": null,
            "object_fit": null,
            "object_position": null,
            "order": null,
            "overflow": null,
            "overflow_x": null,
            "overflow_y": null,
            "padding": null,
            "right": null,
            "top": null,
            "visibility": null,
            "width": null
          }
        },
        "e033cb629960494e88a313504034677d": {
          "model_module": "@jupyter-widgets/controls",
          "model_name": "ProgressStyleModel",
          "model_module_version": "1.5.0",
          "state": {
            "_model_module": "@jupyter-widgets/controls",
            "_model_module_version": "1.5.0",
            "_model_name": "ProgressStyleModel",
            "_view_count": null,
            "_view_module": "@jupyter-widgets/base",
            "_view_module_version": "1.2.0",
            "_view_name": "StyleView",
            "bar_color": null,
            "description_width": ""
          }
        },
        "0383d24d70244334af8de33a7609e378": {
          "model_module": "@jupyter-widgets/base",
          "model_name": "LayoutModel",
          "model_module_version": "1.2.0",
          "state": {
            "_model_module": "@jupyter-widgets/base",
            "_model_module_version": "1.2.0",
            "_model_name": "LayoutModel",
            "_view_count": null,
            "_view_module": "@jupyter-widgets/base",
            "_view_module_version": "1.2.0",
            "_view_name": "LayoutView",
            "align_content": null,
            "align_items": null,
            "align_self": null,
            "border": null,
            "bottom": null,
            "display": null,
            "flex": null,
            "flex_flow": null,
            "grid_area": null,
            "grid_auto_columns": null,
            "grid_auto_flow": null,
            "grid_auto_rows": null,
            "grid_column": null,
            "grid_gap": null,
            "grid_row": null,
            "grid_template_areas": null,
            "grid_template_columns": null,
            "grid_template_rows": null,
            "height": null,
            "justify_content": null,
            "justify_items": null,
            "left": null,
            "margin": null,
            "max_height": null,
            "max_width": null,
            "min_height": null,
            "min_width": null,
            "object_fit": null,
            "object_position": null,
            "order": null,
            "overflow": null,
            "overflow_x": null,
            "overflow_y": null,
            "padding": null,
            "right": null,
            "top": null,
            "visibility": null,
            "width": null
          }
        },
        "85423b75b3094118b321650b44de07d8": {
          "model_module": "@jupyter-widgets/controls",
          "model_name": "DescriptionStyleModel",
          "model_module_version": "1.5.0",
          "state": {
            "_model_module": "@jupyter-widgets/controls",
            "_model_module_version": "1.5.0",
            "_model_name": "DescriptionStyleModel",
            "_view_count": null,
            "_view_module": "@jupyter-widgets/base",
            "_view_module_version": "1.2.0",
            "_view_name": "StyleView",
            "description_width": ""
          }
        },
        "714911dcec184046b3ed8cbc12c59502": {
          "model_module": "@jupyter-widgets/controls",
          "model_name": "HBoxModel",
          "model_module_version": "1.5.0",
          "state": {
            "_dom_classes": [],
            "_model_module": "@jupyter-widgets/controls",
            "_model_module_version": "1.5.0",
            "_model_name": "HBoxModel",
            "_view_count": null,
            "_view_module": "@jupyter-widgets/controls",
            "_view_module_version": "1.5.0",
            "_view_name": "HBoxView",
            "box_style": "",
            "children": [
              "IPY_MODEL_064a46c27a7848e89313d362c4100701",
              "IPY_MODEL_2c576865d4944496bdbf6f15b3dd9ace",
              "IPY_MODEL_7805d38ccc1546ea937ababb08de2f31"
            ],
            "layout": "IPY_MODEL_2fe95d3b711a4c24a2ca26c035560dca"
          }
        },
        "064a46c27a7848e89313d362c4100701": {
          "model_module": "@jupyter-widgets/controls",
          "model_name": "HTMLModel",
          "model_module_version": "1.5.0",
          "state": {
            "_dom_classes": [],
            "_model_module": "@jupyter-widgets/controls",
            "_model_module_version": "1.5.0",
            "_model_name": "HTMLModel",
            "_view_count": null,
            "_view_module": "@jupyter-widgets/controls",
            "_view_module_version": "1.5.0",
            "_view_name": "HTMLView",
            "description": "",
            "description_tooltip": null,
            "layout": "IPY_MODEL_2e73c705d04640fda83490ac95d142b9",
            "placeholder": "​",
            "style": "IPY_MODEL_05bfe22b52e74c8aac9a730e7b02036b",
            "value": "merges.txt: 100%"
          }
        },
        "2c576865d4944496bdbf6f15b3dd9ace": {
          "model_module": "@jupyter-widgets/controls",
          "model_name": "FloatProgressModel",
          "model_module_version": "1.5.0",
          "state": {
            "_dom_classes": [],
            "_model_module": "@jupyter-widgets/controls",
            "_model_module_version": "1.5.0",
            "_model_name": "FloatProgressModel",
            "_view_count": null,
            "_view_module": "@jupyter-widgets/controls",
            "_view_module_version": "1.5.0",
            "_view_name": "ProgressView",
            "bar_style": "success",
            "description": "",
            "description_tooltip": null,
            "layout": "IPY_MODEL_ea172ad82c6f4646a2f5ac16f33f98f5",
            "max": 456318,
            "min": 0,
            "orientation": "horizontal",
            "style": "IPY_MODEL_eb0af20e7b27409e866f919faaf2993e",
            "value": 456318
          }
        },
        "7805d38ccc1546ea937ababb08de2f31": {
          "model_module": "@jupyter-widgets/controls",
          "model_name": "HTMLModel",
          "model_module_version": "1.5.0",
          "state": {
            "_dom_classes": [],
            "_model_module": "@jupyter-widgets/controls",
            "_model_module_version": "1.5.0",
            "_model_name": "HTMLModel",
            "_view_count": null,
            "_view_module": "@jupyter-widgets/controls",
            "_view_module_version": "1.5.0",
            "_view_name": "HTMLView",
            "description": "",
            "description_tooltip": null,
            "layout": "IPY_MODEL_f4aa3957d2dd44a6810f7bcb80c6c25e",
            "placeholder": "​",
            "style": "IPY_MODEL_94657afcbd0b40a2aa9534c04c32f307",
            "value": " 456k/456k [00:00&lt;00:00, 26.6MB/s]"
          }
        },
        "2fe95d3b711a4c24a2ca26c035560dca": {
          "model_module": "@jupyter-widgets/base",
          "model_name": "LayoutModel",
          "model_module_version": "1.2.0",
          "state": {
            "_model_module": "@jupyter-widgets/base",
            "_model_module_version": "1.2.0",
            "_model_name": "LayoutModel",
            "_view_count": null,
            "_view_module": "@jupyter-widgets/base",
            "_view_module_version": "1.2.0",
            "_view_name": "LayoutView",
            "align_content": null,
            "align_items": null,
            "align_self": null,
            "border": null,
            "bottom": null,
            "display": null,
            "flex": null,
            "flex_flow": null,
            "grid_area": null,
            "grid_auto_columns": null,
            "grid_auto_flow": null,
            "grid_auto_rows": null,
            "grid_column": null,
            "grid_gap": null,
            "grid_row": null,
            "grid_template_areas": null,
            "grid_template_columns": null,
            "grid_template_rows": null,
            "height": null,
            "justify_content": null,
            "justify_items": null,
            "left": null,
            "margin": null,
            "max_height": null,
            "max_width": null,
            "min_height": null,
            "min_width": null,
            "object_fit": null,
            "object_position": null,
            "order": null,
            "overflow": null,
            "overflow_x": null,
            "overflow_y": null,
            "padding": null,
            "right": null,
            "top": null,
            "visibility": null,
            "width": null
          }
        },
        "2e73c705d04640fda83490ac95d142b9": {
          "model_module": "@jupyter-widgets/base",
          "model_name": "LayoutModel",
          "model_module_version": "1.2.0",
          "state": {
            "_model_module": "@jupyter-widgets/base",
            "_model_module_version": "1.2.0",
            "_model_name": "LayoutModel",
            "_view_count": null,
            "_view_module": "@jupyter-widgets/base",
            "_view_module_version": "1.2.0",
            "_view_name": "LayoutView",
            "align_content": null,
            "align_items": null,
            "align_self": null,
            "border": null,
            "bottom": null,
            "display": null,
            "flex": null,
            "flex_flow": null,
            "grid_area": null,
            "grid_auto_columns": null,
            "grid_auto_flow": null,
            "grid_auto_rows": null,
            "grid_column": null,
            "grid_gap": null,
            "grid_row": null,
            "grid_template_areas": null,
            "grid_template_columns": null,
            "grid_template_rows": null,
            "height": null,
            "justify_content": null,
            "justify_items": null,
            "left": null,
            "margin": null,
            "max_height": null,
            "max_width": null,
            "min_height": null,
            "min_width": null,
            "object_fit": null,
            "object_position": null,
            "order": null,
            "overflow": null,
            "overflow_x": null,
            "overflow_y": null,
            "padding": null,
            "right": null,
            "top": null,
            "visibility": null,
            "width": null
          }
        },
        "05bfe22b52e74c8aac9a730e7b02036b": {
          "model_module": "@jupyter-widgets/controls",
          "model_name": "DescriptionStyleModel",
          "model_module_version": "1.5.0",
          "state": {
            "_model_module": "@jupyter-widgets/controls",
            "_model_module_version": "1.5.0",
            "_model_name": "DescriptionStyleModel",
            "_view_count": null,
            "_view_module": "@jupyter-widgets/base",
            "_view_module_version": "1.2.0",
            "_view_name": "StyleView",
            "description_width": ""
          }
        },
        "ea172ad82c6f4646a2f5ac16f33f98f5": {
          "model_module": "@jupyter-widgets/base",
          "model_name": "LayoutModel",
          "model_module_version": "1.2.0",
          "state": {
            "_model_module": "@jupyter-widgets/base",
            "_model_module_version": "1.2.0",
            "_model_name": "LayoutModel",
            "_view_count": null,
            "_view_module": "@jupyter-widgets/base",
            "_view_module_version": "1.2.0",
            "_view_name": "LayoutView",
            "align_content": null,
            "align_items": null,
            "align_self": null,
            "border": null,
            "bottom": null,
            "display": null,
            "flex": null,
            "flex_flow": null,
            "grid_area": null,
            "grid_auto_columns": null,
            "grid_auto_flow": null,
            "grid_auto_rows": null,
            "grid_column": null,
            "grid_gap": null,
            "grid_row": null,
            "grid_template_areas": null,
            "grid_template_columns": null,
            "grid_template_rows": null,
            "height": null,
            "justify_content": null,
            "justify_items": null,
            "left": null,
            "margin": null,
            "max_height": null,
            "max_width": null,
            "min_height": null,
            "min_width": null,
            "object_fit": null,
            "object_position": null,
            "order": null,
            "overflow": null,
            "overflow_x": null,
            "overflow_y": null,
            "padding": null,
            "right": null,
            "top": null,
            "visibility": null,
            "width": null
          }
        },
        "eb0af20e7b27409e866f919faaf2993e": {
          "model_module": "@jupyter-widgets/controls",
          "model_name": "ProgressStyleModel",
          "model_module_version": "1.5.0",
          "state": {
            "_model_module": "@jupyter-widgets/controls",
            "_model_module_version": "1.5.0",
            "_model_name": "ProgressStyleModel",
            "_view_count": null,
            "_view_module": "@jupyter-widgets/base",
            "_view_module_version": "1.2.0",
            "_view_name": "StyleView",
            "bar_color": null,
            "description_width": ""
          }
        },
        "f4aa3957d2dd44a6810f7bcb80c6c25e": {
          "model_module": "@jupyter-widgets/base",
          "model_name": "LayoutModel",
          "model_module_version": "1.2.0",
          "state": {
            "_model_module": "@jupyter-widgets/base",
            "_model_module_version": "1.2.0",
            "_model_name": "LayoutModel",
            "_view_count": null,
            "_view_module": "@jupyter-widgets/base",
            "_view_module_version": "1.2.0",
            "_view_name": "LayoutView",
            "align_content": null,
            "align_items": null,
            "align_self": null,
            "border": null,
            "bottom": null,
            "display": null,
            "flex": null,
            "flex_flow": null,
            "grid_area": null,
            "grid_auto_columns": null,
            "grid_auto_flow": null,
            "grid_auto_rows": null,
            "grid_column": null,
            "grid_gap": null,
            "grid_row": null,
            "grid_template_areas": null,
            "grid_template_columns": null,
            "grid_template_rows": null,
            "height": null,
            "justify_content": null,
            "justify_items": null,
            "left": null,
            "margin": null,
            "max_height": null,
            "max_width": null,
            "min_height": null,
            "min_width": null,
            "object_fit": null,
            "object_position": null,
            "order": null,
            "overflow": null,
            "overflow_x": null,
            "overflow_y": null,
            "padding": null,
            "right": null,
            "top": null,
            "visibility": null,
            "width": null
          }
        },
        "94657afcbd0b40a2aa9534c04c32f307": {
          "model_module": "@jupyter-widgets/controls",
          "model_name": "DescriptionStyleModel",
          "model_module_version": "1.5.0",
          "state": {
            "_model_module": "@jupyter-widgets/controls",
            "_model_module_version": "1.5.0",
            "_model_name": "DescriptionStyleModel",
            "_view_count": null,
            "_view_module": "@jupyter-widgets/base",
            "_view_module_version": "1.2.0",
            "_view_name": "StyleView",
            "description_width": ""
          }
        },
        "7b7d65f33f76444ea7c811778e87916c": {
          "model_module": "@jupyter-widgets/controls",
          "model_name": "HBoxModel",
          "model_module_version": "1.5.0",
          "state": {
            "_dom_classes": [],
            "_model_module": "@jupyter-widgets/controls",
            "_model_module_version": "1.5.0",
            "_model_name": "HBoxModel",
            "_view_count": null,
            "_view_module": "@jupyter-widgets/controls",
            "_view_module_version": "1.5.0",
            "_view_name": "HBoxView",
            "box_style": "",
            "children": [
              "IPY_MODEL_d9ee25d9e35649b7a5b7f537c34ce00e",
              "IPY_MODEL_cfa4827e4408444ebe986db6b9a3a271",
              "IPY_MODEL_87fe48fb0d1f4376b46821967262b3c2"
            ],
            "layout": "IPY_MODEL_2eb9b6e112304e74be0730c15289b87e"
          }
        },
        "d9ee25d9e35649b7a5b7f537c34ce00e": {
          "model_module": "@jupyter-widgets/controls",
          "model_name": "HTMLModel",
          "model_module_version": "1.5.0",
          "state": {
            "_dom_classes": [],
            "_model_module": "@jupyter-widgets/controls",
            "_model_module_version": "1.5.0",
            "_model_name": "HTMLModel",
            "_view_count": null,
            "_view_module": "@jupyter-widgets/controls",
            "_view_module_version": "1.5.0",
            "_view_name": "HTMLView",
            "description": "",
            "description_tooltip": null,
            "layout": "IPY_MODEL_004a44ea677d46e4ba5ac4c27389f72e",
            "placeholder": "​",
            "style": "IPY_MODEL_519699fa8ab74819a266f0528aa130b1",
            "value": "tokenizer.json: 100%"
          }
        },
        "cfa4827e4408444ebe986db6b9a3a271": {
          "model_module": "@jupyter-widgets/controls",
          "model_name": "FloatProgressModel",
          "model_module_version": "1.5.0",
          "state": {
            "_dom_classes": [],
            "_model_module": "@jupyter-widgets/controls",
            "_model_module_version": "1.5.0",
            "_model_name": "FloatProgressModel",
            "_view_count": null,
            "_view_module": "@jupyter-widgets/controls",
            "_view_module_version": "1.5.0",
            "_view_name": "ProgressView",
            "bar_style": "success",
            "description": "",
            "description_tooltip": null,
            "layout": "IPY_MODEL_bb4b0d75822445458d22417ebd2373ee",
            "max": 1355863,
            "min": 0,
            "orientation": "horizontal",
            "style": "IPY_MODEL_f10c2342f17b4b688aa34148ef66db1b",
            "value": 1355863
          }
        },
        "87fe48fb0d1f4376b46821967262b3c2": {
          "model_module": "@jupyter-widgets/controls",
          "model_name": "HTMLModel",
          "model_module_version": "1.5.0",
          "state": {
            "_dom_classes": [],
            "_model_module": "@jupyter-widgets/controls",
            "_model_module_version": "1.5.0",
            "_model_name": "HTMLModel",
            "_view_count": null,
            "_view_module": "@jupyter-widgets/controls",
            "_view_module_version": "1.5.0",
            "_view_name": "HTMLView",
            "description": "",
            "description_tooltip": null,
            "layout": "IPY_MODEL_8bffd276419346f78d372c5ea5065e03",
            "placeholder": "​",
            "style": "IPY_MODEL_3039621b775447768d4d77c24f3078f3",
            "value": " 1.36M/1.36M [00:00&lt;00:00, 15.5MB/s]"
          }
        },
        "2eb9b6e112304e74be0730c15289b87e": {
          "model_module": "@jupyter-widgets/base",
          "model_name": "LayoutModel",
          "model_module_version": "1.2.0",
          "state": {
            "_model_module": "@jupyter-widgets/base",
            "_model_module_version": "1.2.0",
            "_model_name": "LayoutModel",
            "_view_count": null,
            "_view_module": "@jupyter-widgets/base",
            "_view_module_version": "1.2.0",
            "_view_name": "LayoutView",
            "align_content": null,
            "align_items": null,
            "align_self": null,
            "border": null,
            "bottom": null,
            "display": null,
            "flex": null,
            "flex_flow": null,
            "grid_area": null,
            "grid_auto_columns": null,
            "grid_auto_flow": null,
            "grid_auto_rows": null,
            "grid_column": null,
            "grid_gap": null,
            "grid_row": null,
            "grid_template_areas": null,
            "grid_template_columns": null,
            "grid_template_rows": null,
            "height": null,
            "justify_content": null,
            "justify_items": null,
            "left": null,
            "margin": null,
            "max_height": null,
            "max_width": null,
            "min_height": null,
            "min_width": null,
            "object_fit": null,
            "object_position": null,
            "order": null,
            "overflow": null,
            "overflow_x": null,
            "overflow_y": null,
            "padding": null,
            "right": null,
            "top": null,
            "visibility": null,
            "width": null
          }
        },
        "004a44ea677d46e4ba5ac4c27389f72e": {
          "model_module": "@jupyter-widgets/base",
          "model_name": "LayoutModel",
          "model_module_version": "1.2.0",
          "state": {
            "_model_module": "@jupyter-widgets/base",
            "_model_module_version": "1.2.0",
            "_model_name": "LayoutModel",
            "_view_count": null,
            "_view_module": "@jupyter-widgets/base",
            "_view_module_version": "1.2.0",
            "_view_name": "LayoutView",
            "align_content": null,
            "align_items": null,
            "align_self": null,
            "border": null,
            "bottom": null,
            "display": null,
            "flex": null,
            "flex_flow": null,
            "grid_area": null,
            "grid_auto_columns": null,
            "grid_auto_flow": null,
            "grid_auto_rows": null,
            "grid_column": null,
            "grid_gap": null,
            "grid_row": null,
            "grid_template_areas": null,
            "grid_template_columns": null,
            "grid_template_rows": null,
            "height": null,
            "justify_content": null,
            "justify_items": null,
            "left": null,
            "margin": null,
            "max_height": null,
            "max_width": null,
            "min_height": null,
            "min_width": null,
            "object_fit": null,
            "object_position": null,
            "order": null,
            "overflow": null,
            "overflow_x": null,
            "overflow_y": null,
            "padding": null,
            "right": null,
            "top": null,
            "visibility": null,
            "width": null
          }
        },
        "519699fa8ab74819a266f0528aa130b1": {
          "model_module": "@jupyter-widgets/controls",
          "model_name": "DescriptionStyleModel",
          "model_module_version": "1.5.0",
          "state": {
            "_model_module": "@jupyter-widgets/controls",
            "_model_module_version": "1.5.0",
            "_model_name": "DescriptionStyleModel",
            "_view_count": null,
            "_view_module": "@jupyter-widgets/base",
            "_view_module_version": "1.2.0",
            "_view_name": "StyleView",
            "description_width": ""
          }
        },
        "bb4b0d75822445458d22417ebd2373ee": {
          "model_module": "@jupyter-widgets/base",
          "model_name": "LayoutModel",
          "model_module_version": "1.2.0",
          "state": {
            "_model_module": "@jupyter-widgets/base",
            "_model_module_version": "1.2.0",
            "_model_name": "LayoutModel",
            "_view_count": null,
            "_view_module": "@jupyter-widgets/base",
            "_view_module_version": "1.2.0",
            "_view_name": "LayoutView",
            "align_content": null,
            "align_items": null,
            "align_self": null,
            "border": null,
            "bottom": null,
            "display": null,
            "flex": null,
            "flex_flow": null,
            "grid_area": null,
            "grid_auto_columns": null,
            "grid_auto_flow": null,
            "grid_auto_rows": null,
            "grid_column": null,
            "grid_gap": null,
            "grid_row": null,
            "grid_template_areas": null,
            "grid_template_columns": null,
            "grid_template_rows": null,
            "height": null,
            "justify_content": null,
            "justify_items": null,
            "left": null,
            "margin": null,
            "max_height": null,
            "max_width": null,
            "min_height": null,
            "min_width": null,
            "object_fit": null,
            "object_position": null,
            "order": null,
            "overflow": null,
            "overflow_x": null,
            "overflow_y": null,
            "padding": null,
            "right": null,
            "top": null,
            "visibility": null,
            "width": null
          }
        },
        "f10c2342f17b4b688aa34148ef66db1b": {
          "model_module": "@jupyter-widgets/controls",
          "model_name": "ProgressStyleModel",
          "model_module_version": "1.5.0",
          "state": {
            "_model_module": "@jupyter-widgets/controls",
            "_model_module_version": "1.5.0",
            "_model_name": "ProgressStyleModel",
            "_view_count": null,
            "_view_module": "@jupyter-widgets/base",
            "_view_module_version": "1.2.0",
            "_view_name": "StyleView",
            "bar_color": null,
            "description_width": ""
          }
        },
        "8bffd276419346f78d372c5ea5065e03": {
          "model_module": "@jupyter-widgets/base",
          "model_name": "LayoutModel",
          "model_module_version": "1.2.0",
          "state": {
            "_model_module": "@jupyter-widgets/base",
            "_model_module_version": "1.2.0",
            "_model_name": "LayoutModel",
            "_view_count": null,
            "_view_module": "@jupyter-widgets/base",
            "_view_module_version": "1.2.0",
            "_view_name": "LayoutView",
            "align_content": null,
            "align_items": null,
            "align_self": null,
            "border": null,
            "bottom": null,
            "display": null,
            "flex": null,
            "flex_flow": null,
            "grid_area": null,
            "grid_auto_columns": null,
            "grid_auto_flow": null,
            "grid_auto_rows": null,
            "grid_column": null,
            "grid_gap": null,
            "grid_row": null,
            "grid_template_areas": null,
            "grid_template_columns": null,
            "grid_template_rows": null,
            "height": null,
            "justify_content": null,
            "justify_items": null,
            "left": null,
            "margin": null,
            "max_height": null,
            "max_width": null,
            "min_height": null,
            "min_width": null,
            "object_fit": null,
            "object_position": null,
            "order": null,
            "overflow": null,
            "overflow_x": null,
            "overflow_y": null,
            "padding": null,
            "right": null,
            "top": null,
            "visibility": null,
            "width": null
          }
        },
        "3039621b775447768d4d77c24f3078f3": {
          "model_module": "@jupyter-widgets/controls",
          "model_name": "DescriptionStyleModel",
          "model_module_version": "1.5.0",
          "state": {
            "_model_module": "@jupyter-widgets/controls",
            "_model_module_version": "1.5.0",
            "_model_name": "DescriptionStyleModel",
            "_view_count": null,
            "_view_module": "@jupyter-widgets/base",
            "_view_module_version": "1.2.0",
            "_view_name": "StyleView",
            "description_width": ""
          }
        },
        "13bb31ffe52d420cb9fdd5b799f2c340": {
          "model_module": "@jupyter-widgets/controls",
          "model_name": "HBoxModel",
          "model_module_version": "1.5.0",
          "state": {
            "_dom_classes": [],
            "_model_module": "@jupyter-widgets/controls",
            "_model_module_version": "1.5.0",
            "_model_name": "HBoxModel",
            "_view_count": null,
            "_view_module": "@jupyter-widgets/controls",
            "_view_module_version": "1.5.0",
            "_view_name": "HBoxView",
            "box_style": "",
            "children": [
              "IPY_MODEL_3f0971cbfbb34dc0945a508a38dc926b",
              "IPY_MODEL_dc50a44fca3f42c9806baec807a63426",
              "IPY_MODEL_70ba7dcd96e749968436f9fe40178938"
            ],
            "layout": "IPY_MODEL_75b960aa919e4743b6674b1dc19172ba"
          }
        },
        "3f0971cbfbb34dc0945a508a38dc926b": {
          "model_module": "@jupyter-widgets/controls",
          "model_name": "HTMLModel",
          "model_module_version": "1.5.0",
          "state": {
            "_dom_classes": [],
            "_model_module": "@jupyter-widgets/controls",
            "_model_module_version": "1.5.0",
            "_model_name": "HTMLModel",
            "_view_count": null,
            "_view_module": "@jupyter-widgets/controls",
            "_view_module_version": "1.5.0",
            "_view_name": "HTMLView",
            "description": "",
            "description_tooltip": null,
            "layout": "IPY_MODEL_e0ad535c36df4758a087ebcde08e0b2b",
            "placeholder": "​",
            "style": "IPY_MODEL_3bbaeb650e254948a64e9f535ef09926",
            "value": "model.safetensors: 100%"
          }
        },
        "dc50a44fca3f42c9806baec807a63426": {
          "model_module": "@jupyter-widgets/controls",
          "model_name": "FloatProgressModel",
          "model_module_version": "1.5.0",
          "state": {
            "_dom_classes": [],
            "_model_module": "@jupyter-widgets/controls",
            "_model_module_version": "1.5.0",
            "_model_name": "FloatProgressModel",
            "_view_count": null,
            "_view_module": "@jupyter-widgets/controls",
            "_view_module_version": "1.5.0",
            "_view_name": "ProgressView",
            "bar_style": "success",
            "description": "",
            "description_tooltip": null,
            "layout": "IPY_MODEL_f29a1dfdd21142eea82fe27bf52db509",
            "max": 1421700479,
            "min": 0,
            "orientation": "horizontal",
            "style": "IPY_MODEL_038ec0814316407d99a1bbbfc7264c24",
            "value": 1421700479
          }
        },
        "70ba7dcd96e749968436f9fe40178938": {
          "model_module": "@jupyter-widgets/controls",
          "model_name": "HTMLModel",
          "model_module_version": "1.5.0",
          "state": {
            "_dom_classes": [],
            "_model_module": "@jupyter-widgets/controls",
            "_model_module_version": "1.5.0",
            "_model_name": "HTMLModel",
            "_view_count": null,
            "_view_module": "@jupyter-widgets/controls",
            "_view_module_version": "1.5.0",
            "_view_name": "HTMLView",
            "description": "",
            "description_tooltip": null,
            "layout": "IPY_MODEL_f7b61d45aba84f3f80c62f0274825b7c",
            "placeholder": "​",
            "style": "IPY_MODEL_25004a0f2d164f24bb191331aa9f948a",
            "value": " 1.42G/1.42G [00:21&lt;00:00, 101MB/s]"
          }
        },
        "75b960aa919e4743b6674b1dc19172ba": {
          "model_module": "@jupyter-widgets/base",
          "model_name": "LayoutModel",
          "model_module_version": "1.2.0",
          "state": {
            "_model_module": "@jupyter-widgets/base",
            "_model_module_version": "1.2.0",
            "_model_name": "LayoutModel",
            "_view_count": null,
            "_view_module": "@jupyter-widgets/base",
            "_view_module_version": "1.2.0",
            "_view_name": "LayoutView",
            "align_content": null,
            "align_items": null,
            "align_self": null,
            "border": null,
            "bottom": null,
            "display": null,
            "flex": null,
            "flex_flow": null,
            "grid_area": null,
            "grid_auto_columns": null,
            "grid_auto_flow": null,
            "grid_auto_rows": null,
            "grid_column": null,
            "grid_gap": null,
            "grid_row": null,
            "grid_template_areas": null,
            "grid_template_columns": null,
            "grid_template_rows": null,
            "height": null,
            "justify_content": null,
            "justify_items": null,
            "left": null,
            "margin": null,
            "max_height": null,
            "max_width": null,
            "min_height": null,
            "min_width": null,
            "object_fit": null,
            "object_position": null,
            "order": null,
            "overflow": null,
            "overflow_x": null,
            "overflow_y": null,
            "padding": null,
            "right": null,
            "top": null,
            "visibility": null,
            "width": null
          }
        },
        "e0ad535c36df4758a087ebcde08e0b2b": {
          "model_module": "@jupyter-widgets/base",
          "model_name": "LayoutModel",
          "model_module_version": "1.2.0",
          "state": {
            "_model_module": "@jupyter-widgets/base",
            "_model_module_version": "1.2.0",
            "_model_name": "LayoutModel",
            "_view_count": null,
            "_view_module": "@jupyter-widgets/base",
            "_view_module_version": "1.2.0",
            "_view_name": "LayoutView",
            "align_content": null,
            "align_items": null,
            "align_self": null,
            "border": null,
            "bottom": null,
            "display": null,
            "flex": null,
            "flex_flow": null,
            "grid_area": null,
            "grid_auto_columns": null,
            "grid_auto_flow": null,
            "grid_auto_rows": null,
            "grid_column": null,
            "grid_gap": null,
            "grid_row": null,
            "grid_template_areas": null,
            "grid_template_columns": null,
            "grid_template_rows": null,
            "height": null,
            "justify_content": null,
            "justify_items": null,
            "left": null,
            "margin": null,
            "max_height": null,
            "max_width": null,
            "min_height": null,
            "min_width": null,
            "object_fit": null,
            "object_position": null,
            "order": null,
            "overflow": null,
            "overflow_x": null,
            "overflow_y": null,
            "padding": null,
            "right": null,
            "top": null,
            "visibility": null,
            "width": null
          }
        },
        "3bbaeb650e254948a64e9f535ef09926": {
          "model_module": "@jupyter-widgets/controls",
          "model_name": "DescriptionStyleModel",
          "model_module_version": "1.5.0",
          "state": {
            "_model_module": "@jupyter-widgets/controls",
            "_model_module_version": "1.5.0",
            "_model_name": "DescriptionStyleModel",
            "_view_count": null,
            "_view_module": "@jupyter-widgets/base",
            "_view_module_version": "1.2.0",
            "_view_name": "StyleView",
            "description_width": ""
          }
        },
        "f29a1dfdd21142eea82fe27bf52db509": {
          "model_module": "@jupyter-widgets/base",
          "model_name": "LayoutModel",
          "model_module_version": "1.2.0",
          "state": {
            "_model_module": "@jupyter-widgets/base",
            "_model_module_version": "1.2.0",
            "_model_name": "LayoutModel",
            "_view_count": null,
            "_view_module": "@jupyter-widgets/base",
            "_view_module_version": "1.2.0",
            "_view_name": "LayoutView",
            "align_content": null,
            "align_items": null,
            "align_self": null,
            "border": null,
            "bottom": null,
            "display": null,
            "flex": null,
            "flex_flow": null,
            "grid_area": null,
            "grid_auto_columns": null,
            "grid_auto_flow": null,
            "grid_auto_rows": null,
            "grid_column": null,
            "grid_gap": null,
            "grid_row": null,
            "grid_template_areas": null,
            "grid_template_columns": null,
            "grid_template_rows": null,
            "height": null,
            "justify_content": null,
            "justify_items": null,
            "left": null,
            "margin": null,
            "max_height": null,
            "max_width": null,
            "min_height": null,
            "min_width": null,
            "object_fit": null,
            "object_position": null,
            "order": null,
            "overflow": null,
            "overflow_x": null,
            "overflow_y": null,
            "padding": null,
            "right": null,
            "top": null,
            "visibility": null,
            "width": null
          }
        },
        "038ec0814316407d99a1bbbfc7264c24": {
          "model_module": "@jupyter-widgets/controls",
          "model_name": "ProgressStyleModel",
          "model_module_version": "1.5.0",
          "state": {
            "_model_module": "@jupyter-widgets/controls",
            "_model_module_version": "1.5.0",
            "_model_name": "ProgressStyleModel",
            "_view_count": null,
            "_view_module": "@jupyter-widgets/base",
            "_view_module_version": "1.2.0",
            "_view_name": "StyleView",
            "bar_color": null,
            "description_width": ""
          }
        },
        "f7b61d45aba84f3f80c62f0274825b7c": {
          "model_module": "@jupyter-widgets/base",
          "model_name": "LayoutModel",
          "model_module_version": "1.2.0",
          "state": {
            "_model_module": "@jupyter-widgets/base",
            "_model_module_version": "1.2.0",
            "_model_name": "LayoutModel",
            "_view_count": null,
            "_view_module": "@jupyter-widgets/base",
            "_view_module_version": "1.2.0",
            "_view_name": "LayoutView",
            "align_content": null,
            "align_items": null,
            "align_self": null,
            "border": null,
            "bottom": null,
            "display": null,
            "flex": null,
            "flex_flow": null,
            "grid_area": null,
            "grid_auto_columns": null,
            "grid_auto_flow": null,
            "grid_auto_rows": null,
            "grid_column": null,
            "grid_gap": null,
            "grid_row": null,
            "grid_template_areas": null,
            "grid_template_columns": null,
            "grid_template_rows": null,
            "height": null,
            "justify_content": null,
            "justify_items": null,
            "left": null,
            "margin": null,
            "max_height": null,
            "max_width": null,
            "min_height": null,
            "min_width": null,
            "object_fit": null,
            "object_position": null,
            "order": null,
            "overflow": null,
            "overflow_x": null,
            "overflow_y": null,
            "padding": null,
            "right": null,
            "top": null,
            "visibility": null,
            "width": null
          }
        },
        "25004a0f2d164f24bb191331aa9f948a": {
          "model_module": "@jupyter-widgets/controls",
          "model_name": "DescriptionStyleModel",
          "model_module_version": "1.5.0",
          "state": {
            "_model_module": "@jupyter-widgets/controls",
            "_model_module_version": "1.5.0",
            "_model_name": "DescriptionStyleModel",
            "_view_count": null,
            "_view_module": "@jupyter-widgets/base",
            "_view_module_version": "1.2.0",
            "_view_name": "StyleView",
            "description_width": ""
          }
        }
      }
    }
  },
  "cells": [
    {
      "cell_type": "markdown",
      "source": [
        "#Approach1 : MAP-REDUCE"
      ],
      "metadata": {
        "id": "pFGkGUjLC6og"
      }
    },
    {
      "cell_type": "markdown",
      "source": [
        "##Map Phase → \"Summarize each chunk\"\n",
        "You split the document into smaller parts (chunks). For each chunk, the LLM generates a local summary.These summaries are independent of each other — there's no global context yet.\n",
        "\n",
        "\n",
        "##Reduce Phase → \"Summarize the summaries\"\n",
        "You gather all the chunk summaries and pass them to the LLM again.The LLM then generates a combined summary — possibly in your desired format (bullet points, abstract, etc.)."
      ],
      "metadata": {
        "id": "lyhBinE6I606"
      }
    },
    {
      "cell_type": "code",
      "source": [
        "!pip install -q langchain-community langchain-core langchain google-generativeai PyMuPDF\n"
      ],
      "metadata": {
        "colab": {
          "base_uri": "https://localhost:8080/"
        },
        "id": "zMmA5AZNGu3g",
        "outputId": "7f120689-7314-480e-8b0b-8bf867154d1f"
      },
      "execution_count": null,
      "outputs": [
        {
          "output_type": "stream",
          "name": "stdout",
          "text": [
            "\u001b[2K   \u001b[90m━━━━━━━━━━━━━━━━━━━━━━━━━━━━━━━━━━━━━━━━\u001b[0m \u001b[32m2.5/2.5 MB\u001b[0m \u001b[31m26.1 MB/s\u001b[0m eta \u001b[36m0:00:00\u001b[0m\n",
            "\u001b[2K   \u001b[90m━━━━━━━━━━━━━━━━━━━━━━━━━━━━━━━━━━━━━━━━\u001b[0m \u001b[32m24.1/24.1 MB\u001b[0m \u001b[31m83.4 MB/s\u001b[0m eta \u001b[36m0:00:00\u001b[0m\n",
            "\u001b[2K   \u001b[90m━━━━━━━━━━━━━━━━━━━━━━━━━━━━━━━━━━━━━━━━\u001b[0m \u001b[32m45.2/45.2 kB\u001b[0m \u001b[31m4.3 MB/s\u001b[0m eta \u001b[36m0:00:00\u001b[0m\n",
            "\u001b[2K   \u001b[90m━━━━━━━━━━━━━━━━━━━━━━━━━━━━━━━━━━━━━━━━\u001b[0m \u001b[32m50.9/50.9 kB\u001b[0m \u001b[31m4.7 MB/s\u001b[0m eta \u001b[36m0:00:00\u001b[0m\n",
            "\u001b[?25h"
          ]
        }
      ]
    },
    {
      "cell_type": "code",
      "source": [
        "pip install langchain-google-genai"
      ],
      "metadata": {
        "colab": {
          "base_uri": "https://localhost:8080/",
          "height": 1000
        },
        "id": "2SSAune3ah-C",
        "outputId": "780777a0-24f2-4883-ca21-7cccbe809391"
      },
      "execution_count": null,
      "outputs": [
        {
          "output_type": "stream",
          "name": "stdout",
          "text": [
            "Collecting langchain-google-genai\n",
            "  Downloading langchain_google_genai-2.1.6-py3-none-any.whl.metadata (7.0 kB)\n",
            "Collecting filetype<2.0.0,>=1.2.0 (from langchain-google-genai)\n",
            "  Downloading filetype-1.2.0-py2.py3-none-any.whl.metadata (6.5 kB)\n",
            "Collecting google-ai-generativelanguage<0.7.0,>=0.6.18 (from langchain-google-genai)\n",
            "  Downloading google_ai_generativelanguage-0.6.18-py3-none-any.whl.metadata (9.8 kB)\n",
            "Requirement already satisfied: langchain-core<0.4.0,>=0.3.66 in /usr/local/lib/python3.11/dist-packages (from langchain-google-genai) (0.3.67)\n",
            "Requirement already satisfied: pydantic<3,>=2 in /usr/local/lib/python3.11/dist-packages (from langchain-google-genai) (2.11.7)\n",
            "Requirement already satisfied: google-api-core!=2.0.*,!=2.1.*,!=2.10.*,!=2.2.*,!=2.3.*,!=2.4.*,!=2.5.*,!=2.6.*,!=2.7.*,!=2.8.*,!=2.9.*,<3.0.0,>=1.34.1 in /usr/local/lib/python3.11/dist-packages (from google-api-core[grpc]!=2.0.*,!=2.1.*,!=2.10.*,!=2.2.*,!=2.3.*,!=2.4.*,!=2.5.*,!=2.6.*,!=2.7.*,!=2.8.*,!=2.9.*,<3.0.0,>=1.34.1->google-ai-generativelanguage<0.7.0,>=0.6.18->langchain-google-genai) (2.25.1)\n",
            "Requirement already satisfied: google-auth!=2.24.0,!=2.25.0,<3.0.0,>=2.14.1 in /usr/local/lib/python3.11/dist-packages (from google-ai-generativelanguage<0.7.0,>=0.6.18->langchain-google-genai) (2.38.0)\n",
            "Requirement already satisfied: proto-plus<2.0.0,>=1.22.3 in /usr/local/lib/python3.11/dist-packages (from google-ai-generativelanguage<0.7.0,>=0.6.18->langchain-google-genai) (1.26.1)\n",
            "Requirement already satisfied: protobuf!=4.21.0,!=4.21.1,!=4.21.2,!=4.21.3,!=4.21.4,!=4.21.5,<7.0.0,>=3.20.2 in /usr/local/lib/python3.11/dist-packages (from google-ai-generativelanguage<0.7.0,>=0.6.18->langchain-google-genai) (5.29.5)\n",
            "Requirement already satisfied: langsmith>=0.3.45 in /usr/local/lib/python3.11/dist-packages (from langchain-core<0.4.0,>=0.3.66->langchain-google-genai) (0.4.4)\n",
            "Requirement already satisfied: tenacity!=8.4.0,<10.0.0,>=8.1.0 in /usr/local/lib/python3.11/dist-packages (from langchain-core<0.4.0,>=0.3.66->langchain-google-genai) (8.5.0)\n",
            "Requirement already satisfied: jsonpatch<2.0,>=1.33 in /usr/local/lib/python3.11/dist-packages (from langchain-core<0.4.0,>=0.3.66->langchain-google-genai) (1.33)\n",
            "Requirement already satisfied: PyYAML>=5.3 in /usr/local/lib/python3.11/dist-packages (from langchain-core<0.4.0,>=0.3.66->langchain-google-genai) (6.0.2)\n",
            "Requirement already satisfied: packaging<25,>=23.2 in /usr/local/lib/python3.11/dist-packages (from langchain-core<0.4.0,>=0.3.66->langchain-google-genai) (24.2)\n",
            "Requirement already satisfied: typing-extensions>=4.7 in /usr/local/lib/python3.11/dist-packages (from langchain-core<0.4.0,>=0.3.66->langchain-google-genai) (4.14.0)\n",
            "Requirement already satisfied: annotated-types>=0.6.0 in /usr/local/lib/python3.11/dist-packages (from pydantic<3,>=2->langchain-google-genai) (0.7.0)\n",
            "Requirement already satisfied: pydantic-core==2.33.2 in /usr/local/lib/python3.11/dist-packages (from pydantic<3,>=2->langchain-google-genai) (2.33.2)\n",
            "Requirement already satisfied: typing-inspection>=0.4.0 in /usr/local/lib/python3.11/dist-packages (from pydantic<3,>=2->langchain-google-genai) (0.4.1)\n",
            "Requirement already satisfied: googleapis-common-protos<2.0.0,>=1.56.2 in /usr/local/lib/python3.11/dist-packages (from google-api-core!=2.0.*,!=2.1.*,!=2.10.*,!=2.2.*,!=2.3.*,!=2.4.*,!=2.5.*,!=2.6.*,!=2.7.*,!=2.8.*,!=2.9.*,<3.0.0,>=1.34.1->google-api-core[grpc]!=2.0.*,!=2.1.*,!=2.10.*,!=2.2.*,!=2.3.*,!=2.4.*,!=2.5.*,!=2.6.*,!=2.7.*,!=2.8.*,!=2.9.*,<3.0.0,>=1.34.1->google-ai-generativelanguage<0.7.0,>=0.6.18->langchain-google-genai) (1.70.0)\n",
            "Requirement already satisfied: requests<3.0.0,>=2.18.0 in /usr/local/lib/python3.11/dist-packages (from google-api-core!=2.0.*,!=2.1.*,!=2.10.*,!=2.2.*,!=2.3.*,!=2.4.*,!=2.5.*,!=2.6.*,!=2.7.*,!=2.8.*,!=2.9.*,<3.0.0,>=1.34.1->google-api-core[grpc]!=2.0.*,!=2.1.*,!=2.10.*,!=2.2.*,!=2.3.*,!=2.4.*,!=2.5.*,!=2.6.*,!=2.7.*,!=2.8.*,!=2.9.*,<3.0.0,>=1.34.1->google-ai-generativelanguage<0.7.0,>=0.6.18->langchain-google-genai) (2.32.3)\n",
            "Requirement already satisfied: grpcio<2.0.0,>=1.33.2 in /usr/local/lib/python3.11/dist-packages (from google-api-core[grpc]!=2.0.*,!=2.1.*,!=2.10.*,!=2.2.*,!=2.3.*,!=2.4.*,!=2.5.*,!=2.6.*,!=2.7.*,!=2.8.*,!=2.9.*,<3.0.0,>=1.34.1->google-ai-generativelanguage<0.7.0,>=0.6.18->langchain-google-genai) (1.73.1)\n",
            "Requirement already satisfied: grpcio-status<2.0.0,>=1.33.2 in /usr/local/lib/python3.11/dist-packages (from google-api-core[grpc]!=2.0.*,!=2.1.*,!=2.10.*,!=2.2.*,!=2.3.*,!=2.4.*,!=2.5.*,!=2.6.*,!=2.7.*,!=2.8.*,!=2.9.*,<3.0.0,>=1.34.1->google-ai-generativelanguage<0.7.0,>=0.6.18->langchain-google-genai) (1.71.2)\n",
            "Requirement already satisfied: cachetools<6.0,>=2.0.0 in /usr/local/lib/python3.11/dist-packages (from google-auth!=2.24.0,!=2.25.0,<3.0.0,>=2.14.1->google-ai-generativelanguage<0.7.0,>=0.6.18->langchain-google-genai) (5.5.2)\n",
            "Requirement already satisfied: pyasn1-modules>=0.2.1 in /usr/local/lib/python3.11/dist-packages (from google-auth!=2.24.0,!=2.25.0,<3.0.0,>=2.14.1->google-ai-generativelanguage<0.7.0,>=0.6.18->langchain-google-genai) (0.4.2)\n",
            "Requirement already satisfied: rsa<5,>=3.1.4 in /usr/local/lib/python3.11/dist-packages (from google-auth!=2.24.0,!=2.25.0,<3.0.0,>=2.14.1->google-ai-generativelanguage<0.7.0,>=0.6.18->langchain-google-genai) (4.9.1)\n",
            "Requirement already satisfied: jsonpointer>=1.9 in /usr/local/lib/python3.11/dist-packages (from jsonpatch<2.0,>=1.33->langchain-core<0.4.0,>=0.3.66->langchain-google-genai) (3.0.0)\n",
            "Requirement already satisfied: httpx<1,>=0.23.0 in /usr/local/lib/python3.11/dist-packages (from langsmith>=0.3.45->langchain-core<0.4.0,>=0.3.66->langchain-google-genai) (0.28.1)\n",
            "Requirement already satisfied: orjson<4.0.0,>=3.9.14 in /usr/local/lib/python3.11/dist-packages (from langsmith>=0.3.45->langchain-core<0.4.0,>=0.3.66->langchain-google-genai) (3.10.18)\n",
            "Requirement already satisfied: requests-toolbelt<2.0.0,>=1.0.0 in /usr/local/lib/python3.11/dist-packages (from langsmith>=0.3.45->langchain-core<0.4.0,>=0.3.66->langchain-google-genai) (1.0.0)\n",
            "Requirement already satisfied: zstandard<0.24.0,>=0.23.0 in /usr/local/lib/python3.11/dist-packages (from langsmith>=0.3.45->langchain-core<0.4.0,>=0.3.66->langchain-google-genai) (0.23.0)\n",
            "Requirement already satisfied: anyio in /usr/local/lib/python3.11/dist-packages (from httpx<1,>=0.23.0->langsmith>=0.3.45->langchain-core<0.4.0,>=0.3.66->langchain-google-genai) (4.9.0)\n",
            "Requirement already satisfied: certifi in /usr/local/lib/python3.11/dist-packages (from httpx<1,>=0.23.0->langsmith>=0.3.45->langchain-core<0.4.0,>=0.3.66->langchain-google-genai) (2025.6.15)\n",
            "Requirement already satisfied: httpcore==1.* in /usr/local/lib/python3.11/dist-packages (from httpx<1,>=0.23.0->langsmith>=0.3.45->langchain-core<0.4.0,>=0.3.66->langchain-google-genai) (1.0.9)\n",
            "Requirement already satisfied: idna in /usr/local/lib/python3.11/dist-packages (from httpx<1,>=0.23.0->langsmith>=0.3.45->langchain-core<0.4.0,>=0.3.66->langchain-google-genai) (3.10)\n",
            "Requirement already satisfied: h11>=0.16 in /usr/local/lib/python3.11/dist-packages (from httpcore==1.*->httpx<1,>=0.23.0->langsmith>=0.3.45->langchain-core<0.4.0,>=0.3.66->langchain-google-genai) (0.16.0)\n",
            "Requirement already satisfied: pyasn1<0.7.0,>=0.6.1 in /usr/local/lib/python3.11/dist-packages (from pyasn1-modules>=0.2.1->google-auth!=2.24.0,!=2.25.0,<3.0.0,>=2.14.1->google-ai-generativelanguage<0.7.0,>=0.6.18->langchain-google-genai) (0.6.1)\n",
            "Requirement already satisfied: charset-normalizer<4,>=2 in /usr/local/lib/python3.11/dist-packages (from requests<3.0.0,>=2.18.0->google-api-core!=2.0.*,!=2.1.*,!=2.10.*,!=2.2.*,!=2.3.*,!=2.4.*,!=2.5.*,!=2.6.*,!=2.7.*,!=2.8.*,!=2.9.*,<3.0.0,>=1.34.1->google-api-core[grpc]!=2.0.*,!=2.1.*,!=2.10.*,!=2.2.*,!=2.3.*,!=2.4.*,!=2.5.*,!=2.6.*,!=2.7.*,!=2.8.*,!=2.9.*,<3.0.0,>=1.34.1->google-ai-generativelanguage<0.7.0,>=0.6.18->langchain-google-genai) (3.4.2)\n",
            "Requirement already satisfied: urllib3<3,>=1.21.1 in /usr/local/lib/python3.11/dist-packages (from requests<3.0.0,>=2.18.0->google-api-core!=2.0.*,!=2.1.*,!=2.10.*,!=2.2.*,!=2.3.*,!=2.4.*,!=2.5.*,!=2.6.*,!=2.7.*,!=2.8.*,!=2.9.*,<3.0.0,>=1.34.1->google-api-core[grpc]!=2.0.*,!=2.1.*,!=2.10.*,!=2.2.*,!=2.3.*,!=2.4.*,!=2.5.*,!=2.6.*,!=2.7.*,!=2.8.*,!=2.9.*,<3.0.0,>=1.34.1->google-ai-generativelanguage<0.7.0,>=0.6.18->langchain-google-genai) (2.4.0)\n",
            "Requirement already satisfied: sniffio>=1.1 in /usr/local/lib/python3.11/dist-packages (from anyio->httpx<1,>=0.23.0->langsmith>=0.3.45->langchain-core<0.4.0,>=0.3.66->langchain-google-genai) (1.3.1)\n",
            "Downloading langchain_google_genai-2.1.6-py3-none-any.whl (47 kB)\n",
            "\u001b[2K   \u001b[90m━━━━━━━━━━━━━━━━━━━━━━━━━━━━━━━━━━━━━━━━\u001b[0m \u001b[32m47.4/47.4 kB\u001b[0m \u001b[31m2.1 MB/s\u001b[0m eta \u001b[36m0:00:00\u001b[0m\n",
            "\u001b[?25hDownloading filetype-1.2.0-py2.py3-none-any.whl (19 kB)\n",
            "Downloading google_ai_generativelanguage-0.6.18-py3-none-any.whl (1.4 MB)\n",
            "\u001b[2K   \u001b[90m━━━━━━━━━━━━━━━━━━━━━━━━━━━━━━━━━━━━━━━━\u001b[0m \u001b[32m1.4/1.4 MB\u001b[0m \u001b[31m19.3 MB/s\u001b[0m eta \u001b[36m0:00:00\u001b[0m\n",
            "\u001b[?25hInstalling collected packages: filetype, google-ai-generativelanguage, langchain-google-genai\n",
            "  Attempting uninstall: google-ai-generativelanguage\n",
            "    Found existing installation: google-ai-generativelanguage 0.6.15\n",
            "    Uninstalling google-ai-generativelanguage-0.6.15:\n",
            "      Successfully uninstalled google-ai-generativelanguage-0.6.15\n",
            "\u001b[31mERROR: pip's dependency resolver does not currently take into account all the packages that are installed. This behaviour is the source of the following dependency conflicts.\n",
            "google-generativeai 0.8.5 requires google-ai-generativelanguage==0.6.15, but you have google-ai-generativelanguage 0.6.18 which is incompatible.\u001b[0m\u001b[31m\n",
            "\u001b[0mSuccessfully installed filetype-1.2.0 google-ai-generativelanguage-0.6.18 langchain-google-genai-2.1.6\n"
          ]
        },
        {
          "output_type": "display_data",
          "data": {
            "application/vnd.colab-display-data+json": {
              "pip_warning": {
                "packages": [
                  "google"
                ]
              },
              "id": "a7bcd883ae934aa18b991befb5cbdf72"
            }
          },
          "metadata": {}
        }
      ]
    },
    {
      "cell_type": "code",
      "source": [
        "import os\n",
        "from langchain_google_genai import ChatGoogleGenerativeAI\n",
        "\n",
        "# ✅ Safer: Set your API key as an environment variable\n",
        "os.environ[\"GOOGLE_API_KEY\"] = \"your_api_key\"\n",
        "\n",
        "# ✅ Now initialize the LLM\n",
        "llm = ChatGoogleGenerativeAI(model=\"gemini-2.0-flash\", temperature=0.3)"
      ],
      "metadata": {
        "id": "scHCF2KyLCEw"
      },
      "execution_count": null,
      "outputs": []
    },
    {
      "cell_type": "markdown",
      "source": [
        "1. ChatGoogleGenerativeAI: This is a class from langchain_google_genai that wraps Google’s Gemini API (Generative AI for chat).\n",
        "\n",
        "2. model=\"gemini-2.0-flash\": Specifies the exact variant of Gemini to use — \"Flash\" is optimized for speed and cost-efficiency, while still being capable.\n",
        "\n",
        "3. temperature=0.3: Controls randomness in output.\n",
        "\n",
        "- Lower (e.g., 0.3) = more focused, deterministic, and repetitive\n",
        "\n",
        "- Higher (e.g., 0.9) = more creative, diverse, but potentially off-topic"
      ],
      "metadata": {
        "id": "YzBDRulVp-AK"
      }
    },
    {
      "cell_type": "markdown",
      "source": [
        "#APPROACH 2: CLUSTERING"
      ],
      "metadata": {
        "id": "MfuRxjrrKtCr"
      }
    },
    {
      "cell_type": "code",
      "source": [
        "!pip install -q pypdf"
      ],
      "metadata": {
        "id": "vYVzY77GSZQg",
        "colab": {
          "base_uri": "https://localhost:8080/"
        },
        "outputId": "78caf44c-234e-47c7-9c6d-e3b639b4a054"
      },
      "execution_count": null,
      "outputs": [
        {
          "output_type": "stream",
          "name": "stdout",
          "text": [
            "\u001b[?25l   \u001b[90m━━━━━━━━━━━━━━━━━━━━━━━━━━━━━━━━━━━━━━━━\u001b[0m \u001b[32m0.0/305.5 kB\u001b[0m \u001b[31m?\u001b[0m eta \u001b[36m-:--:--\u001b[0m\r\u001b[2K   \u001b[91m━━━━━━━━━━━━\u001b[0m\u001b[90m╺\u001b[0m\u001b[90m━━━━━━━━━━━━━━━━━━━━━━━━━━━\u001b[0m \u001b[32m92.2/305.5 kB\u001b[0m \u001b[31m2.5 MB/s\u001b[0m eta \u001b[36m0:00:01\u001b[0m\r\u001b[2K   \u001b[91m━━━━━━━━━━━━━━━━━━━━━━━━━━━━━━━━━━━━━━\u001b[0m\u001b[91m╸\u001b[0m\u001b[90m━\u001b[0m \u001b[32m297.0/305.5 kB\u001b[0m \u001b[31m4.1 MB/s\u001b[0m eta \u001b[36m0:00:01\u001b[0m\r\u001b[2K   \u001b[90m━━━━━━━━━━━━━━━━━━━━━━━━━━━━━━━━━━━━━━━━\u001b[0m \u001b[32m305.5/305.5 kB\u001b[0m \u001b[31m3.5 MB/s\u001b[0m eta \u001b[36m0:00:00\u001b[0m\n",
            "\u001b[?25h"
          ]
        }
      ]
    },
    {
      "cell_type": "markdown",
      "source": [
        "##Next Steps\n",
        "1. Importing PDF Loaders\n",
        "2. Load the PDF Document\n",
        "3. Read All Pages into Memory\n",
        "4. Trim the Beginning and End Pages\n",
        "5. Concatenate the Page Contents"
      ],
      "metadata": {
        "id": "oOEQ9YMDqlrq"
      }
    },
    {
      "cell_type": "code",
      "source": [
        "from langchain.document_loaders import PyPDFLoader\n",
        "from langchain_community.document_loaders import PyMuPDFLoader\n",
        "\n",
        "\n",
        "# Load the book if its short\n",
        "#loader = PyPDFLoader(\"/content/orwellanimalfarm.pdf\")\n",
        "\n",
        "#if the book is long\n",
        "loader = PyMuPDFLoader(\"/content/the-fountainhead.pdf\")\n",
        "\n",
        "pages = loader.load()\n",
        "\n",
        "# Cut out the open and closing parts\n",
        "pages = pages[3:]\n",
        "\n",
        "# Combine the pages, and replace the tabs with spaces\n",
        "text = \"\"\n",
        "\n",
        "for page in pages:\n",
        "    text += page.page_content\n",
        "\n",
        "text = text.replace('\\t', ' ')"
      ],
      "metadata": {
        "id": "s0xUM4aXLBZ8"
      },
      "execution_count": null,
      "outputs": []
    },
    {
      "cell_type": "markdown",
      "source": [
        "llm.get_num_tokens(...) is a utility method provided by LangChain’s ChatGoogleGenerativeAI wrapper. It estimates how many tokens the given input (text) would use based on the tokenizer of the underlying LLM (here, Gemini 2.0 Flash). This is useful for checking whether the input fits within the model’s context window (i.e., max token limit)."
      ],
      "metadata": {
        "id": "pDpHzC-3rIm8"
      }
    },
    {
      "cell_type": "code",
      "source": [
        "num_tokens = llm.get_num_tokens(text)\n",
        "\n",
        "print (f\"This book has {num_tokens} tokens in it\")"
      ],
      "metadata": {
        "colab": {
          "base_uri": "https://localhost:8080/"
        },
        "id": "gvt2YT9SKxs9",
        "outputId": "0495e951-49fc-41a0-cc76-98da8e2324ea"
      },
      "execution_count": null,
      "outputs": [
        {
          "output_type": "stream",
          "name": "stdout",
          "text": [
            "This book has 450317 tokens in it\n"
          ]
        }
      ]
    },
    {
      "cell_type": "code",
      "source": [
        "# LangChain Core\n",
        "from langchain.schema import Document\n",
        "from langchain.text_splitter import RecursiveCharacterTextSplitter\n",
        "\n",
        "# Gemini LLM + Embeddings\n",
        "from langchain_google_genai import ChatGoogleGenerativeAI\n",
        "from langchain_google_genai import GoogleGenerativeAIEmbeddings\n",
        "\n",
        "# Vector Store (FAISS)\n",
        "from langchain.vectorstores import FAISS\n",
        "\n",
        "# Summarization Chain\n",
        "from langchain.chains.summarize import load_summarize_chain\n",
        "\n",
        "# Clustering\n",
        "import numpy as np\n",
        "from sklearn.cluster import KMeans"
      ],
      "metadata": {
        "id": "gfffLeGcS9YI"
      },
      "execution_count": null,
      "outputs": []
    },
    {
      "cell_type": "markdown",
      "source": [
        "###Next we apply a splitter to the book text (wrapped in a list because it expects a list of documents). This returns a list of Document objects — each one containing a chunk of the book."
      ],
      "metadata": {
        "id": "1bdcOfZCsLlm"
      }
    },
    {
      "cell_type": "markdown",
      "source": [
        "1. RecursiveCharacterTextSplitter: A LangChain utility that recursively splits text by the given separators, prioritizing larger ones (\\n\\n) first, then falling back to smaller ones (\\n, \\t) if needed.\n",
        "\n",
        "2. chunk_size=10000: Each chunk will try to be close to 10,000 characters (not tokens).\n",
        "\n",
        "3. chunk_overlap=3000: Each new chunk will overlap 3,000 characters with the previous one. This ensures that important context isn’t lost between chunks (great for LLMs that work one chunk at a time).\n",
        "\n"
      ],
      "metadata": {
        "id": "fpl8e5wqr6EX"
      }
    },
    {
      "cell_type": "code",
      "source": [
        "text_splitter = RecursiveCharacterTextSplitter(separators=[\"\\n\\n\", \"\\n\", \"\\t\"], chunk_size=10000, chunk_overlap=3000)\n",
        "\n",
        "docs = text_splitter.create_documents([text])\n",
        "num_documents = len(docs)\n",
        "\n",
        "print (f\"Now our book is split up into {num_documents} documents\")"
      ],
      "metadata": {
        "colab": {
          "base_uri": "https://localhost:8080/"
        },
        "id": "HMOGdxo3TTRM",
        "outputId": "59f2afd5-7b9c-4053-985e-f7a1677d6701"
      },
      "execution_count": null,
      "outputs": [
        {
          "output_type": "stream",
          "name": "stdout",
          "text": [
            "Now our book is split up into 251 documents\n"
          ]
        }
      ]
    },
    {
      "cell_type": "markdown",
      "source": [
        "Next we use Google Gemini’s embedding model to convert our chunked book content (docs) into vector embeddings — numerical representations that capture the meaning of the text."
      ],
      "metadata": {
        "id": "WkK84OaKsqqf"
      }
    },
    {
      "cell_type": "code",
      "source": [
        "# Instantiate Gemini embedding model\n",
        "embeddings = GoogleGenerativeAIEmbeddings(model=\"models/embedding-001\")\n",
        "\n",
        "# Embed your documents (list of strings)\n",
        "vectors = embeddings.embed_documents([x.page_content for x in docs])\n"
      ],
      "metadata": {
        "id": "bVMumI-6TWtv"
      },
      "execution_count": null,
      "outputs": []
    },
    {
      "cell_type": "markdown",
      "source": [
        "This code performs K-Means clustering on your Gemini embeddings to find natural groupings among the document chunks — and uses the elbow method to determine the ideal number of clusters (k)."
      ],
      "metadata": {
        "id": "msYjOGxBtRgc"
      }
    },
    {
      "cell_type": "code",
      "source": [
        "from sklearn.cluster import KMeans\n",
        "import matplotlib.pyplot as plt\n",
        "import numpy as np\n",
        "\n",
        "# Assuming `vectors` is a list or np.array of embeddings from Gemini\n",
        "X = np.array(vectors)\n",
        "\n",
        "# Range of k values to test\n",
        "k_range = range(2, 15)  # Try between 2 and 20 clusters\n",
        "\n",
        "inertias = []\n",
        "\n",
        "for k in k_range:\n",
        "    kmeans = KMeans(n_clusters=k, random_state=42, n_init=\"auto\")\n",
        "    kmeans.fit(X)\n",
        "    inertias.append(kmeans.inertia_)  # Sum of squared distances (WCSS)\n",
        "\n",
        "# Plotting the Elbow Curve\n",
        "plt.figure(figsize=(8, 5))\n",
        "plt.plot(k_range, inertias, marker='o')\n",
        "plt.xlabel(\"Number of Clusters (k)\")\n",
        "plt.ylabel(\"WCSS / Inertia\")\n",
        "plt.title(\"Elbow Method For Optimal k\")\n",
        "plt.grid(True)\n",
        "plt.show()\n"
      ],
      "metadata": {
        "colab": {
          "base_uri": "https://localhost:8080/",
          "height": 487
        },
        "id": "rvcP-OxHVGs-",
        "outputId": "84efbaad-e916-443c-fc70-2789fd5ad59a"
      },
      "execution_count": null,
      "outputs": [
        {
          "output_type": "display_data",
          "data": {
            "text/plain": [
              "<Figure size 800x500 with 1 Axes>"
            ],
            "image/png": "[encoded data removed]"
          },
          "metadata": {}
        }
      ]
    },
    {
      "cell_type": "code",
      "source": [
        "# Assuming 'embeddings' is a list or array of 1536-dimensional embeddings\n",
        "\n",
        "# Choose the number of clusters, this can be adjusted based on the book's content.\n",
        "# Usually if you have 10 passages from a book you can tell what it's about\n",
        "num_clusters = 4\n",
        "\n",
        "# Perform K-means clustering\n",
        "kmeans = KMeans(n_clusters=num_clusters, random_state=42).fit(vectors)"
      ],
      "metadata": {
        "id": "Gnzn_ZDfT34C"
      },
      "execution_count": null,
      "outputs": []
    },
    {
      "cell_type": "markdown",
      "source": [
        "We're using t-SNE (t-distributed Stochastic Neighbor Embedding) to reduce the 1536-dimensional Gemini embeddings into 2D, so we can meaningfully plot and interpret clusters of similar passages."
      ],
      "metadata": {
        "id": "ZaIf8G9-utv8"
      }
    },
    {
      "cell_type": "code",
      "source": [
        "from sklearn.manifold import TSNE\n",
        "import matplotlib.pyplot as plt\n",
        "import numpy as np\n",
        "import warnings\n",
        "warnings.simplefilter(action='ignore', category=FutureWarning)\n",
        "\n",
        "# t-SNE to reduce embeddings to 2D\n",
        "tsne = TSNE(n_components=2, random_state=42, perplexity=5)\n",
        "reduced_data_tsne = tsne.fit_transform(np.array(vectors))\n",
        "\n",
        "# Create the plot\n",
        "plt.figure(figsize=(10, 7))\n",
        "scatter = plt.scatter(\n",
        "    reduced_data_tsne[:, 0],\n",
        "    reduced_data_tsne[:, 1],\n",
        "    c=kmeans.labels_,\n",
        "    cmap='tab10',  # Use distinct colors for each cluster\n",
        "    s=60,\n",
        "    edgecolors='k'\n",
        ")\n",
        "\n",
        "# Add text labels (chunk index)\n",
        "for i, (x, y) in enumerate(reduced_data_tsne):\n",
        "    plt.text(x + 0.5, y + 0.5, str(i), fontsize=8, alpha=0.7)\n",
        "\n",
        "plt.xlabel('Dimension 1')\n",
        "plt.ylabel('Dimension 2')\n",
        "plt.title('Book Embeddings Clustered with t-SNE')\n",
        "plt.grid(True)\n",
        "plt.colorbar(scatter, label='Cluster ID')\n",
        "plt.tight_layout()\n",
        "plt.show()\n"
      ],
      "metadata": {
        "colab": {
          "base_uri": "https://localhost:8080/",
          "height": 707
        },
        "id": "Re4ZC4wiUJak",
        "outputId": "32ac38e7-8556-4464-f3c7-f8f43cc9af4c"
      },
      "execution_count": null,
      "outputs": [
        {
          "output_type": "display_data",
          "data": {
            "text/plain": [
              "<Figure size 1000x700 with 2 Axes>"
            ],
            "image/png": "[encoded data removed]"
          },
          "metadata": {}
        }
      ]
    },
    {
      "cell_type": "code",
      "source": [
        "# Find the closest embeddings to the centroids\n",
        "\n",
        "# Create an empty list that will hold your closest points\n",
        "closest_indices = []\n",
        "\n",
        "# Loop through the number of clusters you have\n",
        "for i in range(num_clusters):\n",
        "\n",
        "    # Get the list of distances from that particular cluster center\n",
        "    distances = np.linalg.norm(vectors - kmeans.cluster_centers_[i], axis=1)\n",
        "\n",
        "    # Find the list position of the closest one (using argmin to find the smallest distance)\n",
        "    closest_index = np.argmin(distances)\n",
        "\n",
        "    # Append that position to your closest indices list\n",
        "    closest_indices.append(closest_index)"
      ],
      "metadata": {
        "id": "B9r2tAdYVeRe"
      },
      "execution_count": null,
      "outputs": []
    },
    {
      "cell_type": "markdown",
      "source": [
        "After the loop, closest_indices holds the indices of the most representative passage in each of the num_clusters groups"
      ],
      "metadata": {
        "id": "LHLqOrMDvr1X"
      }
    },
    {
      "cell_type": "code",
      "source": [
        "for idx in closest_indices:\n",
        "    print(f\"Cluster {kmeans.labels_[idx]} representative:\\n\")\n",
        "    print(docs[idx].page_content[:500])  # Show first 500 chars\n",
        "    print(\"\\n\" + \"-\"*80 + \"\\n\")"
      ],
      "metadata": {
        "colab": {
          "base_uri": "https://localhost:8080/"
        },
        "id": "Pl7zKTTgvycT",
        "outputId": "af63a65f-2c3f-437c-8a33-a95cad473e47"
      },
      "execution_count": null,
      "outputs": [
        {
          "output_type": "stream",
          "name": "stdout",
          "text": [
            "Cluster 0 representative:\n",
            "\n",
            "there had been art and skill and its own kind of illogical energy in the career of Guy Francon, \n",
            "even if the art consisted only of his social charm and the energy was directed at snaring \n",
            "bewildered millionaires. There had been a twisted sort of sense in people's response to Guy \n",
            "Francon.He could see no hint of rationality in the things to which people responded now. The leader of \n",
            "the profession--on a mean scale, there was no grand scale left in anything--was Gordon L. \n",
            "Prescott, Chairman of th\n",
            "\n",
            "--------------------------------------------------------------------------------\n",
            "\n",
            "Cluster 1 representative:\n",
            "\n",
            "dream of every man: the chance and intensity of youth, to be used with the wisdom of \n",
            "experience. A new beginning and a climax, together. I have waited and lived, he thought, for \n",
            "this.\n",
            "His twenty-two newspapers, his magazines, his newsreels were given the order: Defend \n",
            "Roark. Sell Roark to the public. Stem the lynching.\"Whatever the facts,\" Wynand explained to his staff, \"this is not going to be a trial by facts. It's \n",
            "a trial by public opinion. We've always made public opinion. Let's make it.\n",
            "\n",
            "--------------------------------------------------------------------------------\n",
            "\n",
            "Cluster 2 representative:\n",
            "\n",
            "\"Sixty-five will do.\"\n",
            "\"You...you'll come with us, Howard?\"\n",
            "\"When do you want me to start?\"\n",
            "\"Why...as soon as you can! Monday?\"\n",
            "\"ALL right.\"\n",
            "\"Thanks, Howard!\"\n",
            "\"On one condition,\" said Roark. \"I'm not going to do any designing. Not any. No details. No \n",
            "Louis XV skyscrapers. Just keep me off esthetics if you want to keep me at all. Put me in the \n",
            "engineering department. Send me on inspections, out in the field. Now, do you still want me?\"\n",
            "\"Certainly. Anything you say. You'll like the place, just wa\n",
            "\n",
            "--------------------------------------------------------------------------------\n",
            "\n",
            "Cluster 3 representative:\n",
            "\n",
            "the old parlor back home that smells of clam chowder. A building that everybody will like, \n",
            "everybody and anybody. It's very uncomfortable to be a hero, Joel, and you don't have the \n",
            "figure for it.\"\n",
            "\"Well, of course I want a building that people will like. What do you think I'm putting it up for, \n",
            "for my health?\"\n",
            "\"No, Joel. Nor for your soul.\"\n",
            "\"You mean, Roark's no good?\"\n",
            "She sat straight and stiff, as if all her muscles were drawn tight against pain. But her eyes \n",
            "were heavy, half closed, as if\n",
            "\n",
            "--------------------------------------------------------------------------------\n",
            "\n"
          ]
        }
      ]
    },
    {
      "cell_type": "code",
      "source": [
        "selected_indices = sorted(closest_indices)\n",
        "selected_indices"
      ],
      "metadata": {
        "colab": {
          "base_uri": "https://localhost:8080/"
        },
        "id": "uLXbwl8DVg6h",
        "outputId": "2cc867ec-5dfe-4176-9dd7-24840ed90e9d"
      },
      "execution_count": null,
      "outputs": [
        {
          "output_type": "execute_result",
          "data": {
            "text/plain": [
              "[np.int64(28), np.int64(95), np.int64(201), np.int64(224)]"
            ]
          },
          "metadata": {},
          "execution_count": 77
        }
      ]
    },
    {
      "cell_type": "markdown",
      "source": [
        "- closest_indices might be in cluster order (e.g., [4, 2, 9, 1, 6])\n",
        "\n",
        "- sorted(...) rearranges it in document order (e.g., [1, 2, 4, 6, 9])\n",
        "\n",
        "This is useful coz we want to read the representative passages in order of appearance in the book (instead of cluster ID) and we’re about to summarize or display them with natural narrative flow."
      ],
      "metadata": {
        "id": "BTaTXTM2wQe8"
      }
    },
    {
      "cell_type": "markdown",
      "source": [
        "###Next, we instruct the LLM to take these most representative chunks one by one, and produce a detailed summary of each chunk\n",
        "\n",
        "- Step 1: build the prompt"
      ],
      "metadata": {
        "id": "dzdW1gNZxW0o"
      }
    },
    {
      "cell_type": "code",
      "source": [
        "from langchain.prompts import PromptTemplate\n",
        "map_prompt = \"\"\"\n",
        "You will be given a single passage of a book. This section will be enclosed in triple backticks (```)\n",
        "Your goal is to give a summary of this section so that a reader will have a full understanding of what happened.\n",
        "Your response should be at least three paragraphs and fully encompass what was said in the passage.\n",
        "\n",
        "```{text}```\n",
        "FULL SUMMARY:\n",
        "\"\"\"\n",
        "map_prompt_template = PromptTemplate(template=map_prompt, input_variables=[\"text\"])"
      ],
      "metadata": {
        "id": "TroI9zzVV6mm"
      },
      "execution_count": null,
      "outputs": []
    },
    {
      "cell_type": "markdown",
      "source": [
        "Gemini reads one chunk of raw book text and processes it with self-attention (transformer-based reasoning). Understands structure, characters, events, etc. Generates a 3+ paragraph coherent summary — all from the input chunk"
      ],
      "metadata": {
        "id": "GtaDWup226_g"
      }
    },
    {
      "cell_type": "code",
      "source": [
        "selected_docs = [docs[doc] for doc in selected_indices]"
      ],
      "metadata": {
        "id": "CXGVLq2OWNus"
      },
      "execution_count": null,
      "outputs": []
    },
    {
      "cell_type": "markdown",
      "source": [
        "- Step 2 : run a map-style summarization loop using Gemini, generating detailed summaries for your selected document chunks — one for each cluster’s most representative passage.\n",
        "\n",
        "Map-style summarization is a part of map-reduce summarization,\n",
        "inspired by the MapReduce programming model"
      ],
      "metadata": {
        "id": "Fv3o9eX-ymkf"
      }
    },
    {
      "cell_type": "code",
      "source": [
        "# Make an empty list to hold your summaries\n",
        "summary_list = []\n",
        "\n",
        "# Load the summarization chain\n",
        "\n",
        "# \"stuff\" means: take the document chunk and stuff it directly into the prompt (as long as it's small enough)\n",
        "# The map_chain here is responsible for summarizing one chunk at a time using our custom prompt.\n",
        "\n",
        "from langchain.chains.summarize import load_summarize_chain\n",
        "map_chain = load_summarize_chain(llm, chain_type=\"stuff\", prompt=map_prompt_template)\n",
        "\n",
        "# Loop through a range of the lenght of your selected docs\n",
        "for i, doc in enumerate(selected_docs):\n",
        "\n",
        "    # Go get a summary of the chunk\n",
        "    chunk_summary = map_chain.run([doc])\n",
        "\n",
        "    # Append that summary to your list\n",
        "    summary_list.append(chunk_summary)\n",
        "\n",
        "    print (f\"Summary #{i} (chunk #{selected_indices[i]}) - Preview: {chunk_summary[:250]} \\n\")"
      ],
      "metadata": {
        "colab": {
          "base_uri": "https://localhost:8080/"
        },
        "id": "8Uogq-IFWRkG",
        "outputId": "680629e7-d685-4c69-b3d2-b0da4c63be2f"
      },
      "execution_count": null,
      "outputs": [
        {
          "output_type": "stream",
          "name": "stdout",
          "text": [
            "Summary #0 (chunk #28) - Preview: Peter Keating visits Howard Roark, offering him a job at Francon & Heyer. Roark accepts, but only on the condition that he does no design work, specifically no \"Louis XV skyscrapers,\" and is instead placed in the engineering department for inspection \n",
            "\n",
            "Summary #1 (chunk #95) - Preview: The passage details a complex and destructive relationship between Dominique Francon and Howard Roark. It begins with Joel Sutton seeking Dominique's advice on which architect to hire for a new building. Dominique, despite seemingly admiring Roark's  \n",
            "\n",
            "Summary #2 (chunk #201) - Preview: Peter Keating finds himself increasingly alienated and out of step with the changing architectural landscape. He observes that the values and standards he once understood have been replaced by what he perceives as irrational and fraudulent trends. Ar \n",
            "\n",
            "Summary #3 (chunk #224) - Preview: Gail Wynand, driven by a desire to wield his power and vindicate his past, orders his media empire to defend Howard Roark in the public eye, regardless of the facts of the Cortlandt Homes demolition. He instructs his staff to \"sell Roark\" and manipul \n",
            "\n"
          ]
        }
      ]
    },
    {
      "cell_type": "markdown",
      "source": [
        "Now, we’re combining all the individual chunk summaries (from the map step) into one long string and wrapping it into a single Document."
      ],
      "metadata": {
        "id": "Y3YnS_sH0hlp"
      }
    },
    {
      "cell_type": "code",
      "source": [
        "summaries = \"\\n\".join(summary_list)\n",
        "\n",
        "# Convert it back to a document\n",
        "summaries = Document(page_content=summaries)\n",
        "\n",
        "print (f\"Your total summary has {llm.get_num_tokens(summaries.page_content)} tokens\")"
      ],
      "metadata": {
        "colab": {
          "base_uri": "https://localhost:8080/"
        },
        "id": "3ACAvJqzWjhT",
        "outputId": "56cc9498-fe8e-4168-f384-df661d04ec65"
      },
      "execution_count": null,
      "outputs": [
        {
          "output_type": "stream",
          "name": "stdout",
          "text": [
            "Your total summary has 1574 tokens\n"
          ]
        }
      ]
    },
    {
      "cell_type": "markdown",
      "source": [
        "###After the below code, LangChain will \"stuff\" all the content from the input Document(s) into a single prompt, and send it to the LLM."
      ],
      "metadata": {
        "id": "V6M-KTVM1pUf"
      }
    },
    {
      "cell_type": "code",
      "source": [
        "combine_prompt = \"\"\"\n",
        "You will be given a series of summaries from a book. The summaries will be enclosed in triple backticks (```).\n",
        "\n",
        "Your goal is to produce a brief, coherent summary of the entire book.\n",
        "\n",
        "Start your summary with a suitable introduction sentence that clearly states what the book is about.\n",
        "Then, continue to summarize the main events, characters, and themes in a brief but structured way.\n",
        "The reader should be able to grasp what happened in the book.\n",
        "\n",
        "\n",
        "```{text}```\n",
        "\n",
        "VERBOSE SUMMARY:\n",
        "\"\"\"\n",
        "\n",
        "combine_prompt_template = PromptTemplate(template=combine_prompt, input_variables=[\"text\"])"
      ],
      "metadata": {
        "id": "B0DppxoZWqtR"
      },
      "execution_count": null,
      "outputs": []
    },
    {
      "cell_type": "code",
      "source": [
        "reduce_chain = load_summarize_chain(llm=llm,\n",
        "                             chain_type=\"stuff\",\n",
        "                             prompt=combine_prompt_template,\n",
        "                                    #verbose=True  Set this to true if you want to see the inner workings\n",
        "                                   )"
      ],
      "metadata": {
        "id": "mgbRubyHWtAu"
      },
      "execution_count": null,
      "outputs": []
    },
    {
      "cell_type": "code",
      "source": [
        "output = reduce_chain.run([summaries])\n",
        "print (output)"
      ],
      "metadata": {
        "colab": {
          "base_uri": "https://localhost:8080/"
        },
        "id": "7VgdUxtZWzpz",
        "outputId": "24f793f2-fc1b-4e67-a345-c23b838de56d"
      },
      "execution_count": null,
      "outputs": [
        {
          "output_type": "stream",
          "name": "stdout",
          "text": [
            "\"The Fountainhead\" by Ayn Rand explores the themes of individualism versus collectivism through the life and career of architect Howard Roark, who refuses to compromise his artistic vision. The story begins with Roark's expulsion from architecture school due to his unconventional designs. He then works for various firms, including Francon & Heyer, where he encounters Peter Keating, a talented but insecure architect who prioritizes popularity over integrity. Keating's ambition leads him to seek Roark's help secretly while publicly undermining him. Roark also meets Dominique Francon, a complex and cynical woman who is drawn to his uncompromising nature but attempts to destroy him to protect herself from the world's mediocrity. Their relationship is marked by intense passion and a destructive dynamic.\n",
            "\n",
            "As Keating's career declines due to his lack of originality, Roark continues to face challenges, including the rejection of his designs and the struggle to find clients who appreciate his vision. He works in a granite quarry to maintain his independence. Meanwhile, Keating's desperation leads him to secure the commission for Cortlandt Homes, a large-scale housing project, which he designs based on Roark's principles, albeit poorly executed. When the project is compromised by committee decisions and fails to meet his standards, Roark dynamites the building.\n",
            "\n",
            "Roark's act of defiance leads to a highly publicized trial, during which he defends his actions and articulates his philosophy of individualism. Gail Wynand, a powerful newspaper publisher who is married to Dominique, initially attempts to manipulate public opinion in Roark's favor but ultimately fails and destroys his own career and reputation in the process. Roark is eventually acquitted, and the novel concludes with him designing the Wynand Building, a testament to his unwavering commitment to his principles, with Dominique by his side, finally accepting his vision.\n"
          ]
        }
      ]
    },
    {
      "cell_type": "markdown",
      "source": [
        "What Gemini is doing:\n",
        "\n",
        "1. Receives multiple summaries (1 per selected chunk) as a long text block\n",
        "\n",
        "2. Uses its long-context reasoning to:\n",
        "\n",
        "- Synthesize common themes\n",
        "\n",
        "- Identify narrative arc\n",
        "\n",
        "- Preserve chronology and logic\n",
        "\n",
        "- Generates a final, high-level book summary"
      ],
      "metadata": {
        "id": "Be9CmLVg3Vo3"
      }
    },
    {
      "cell_type": "markdown",
      "source": [
        "#Evaluation of the generated summary"
      ],
      "metadata": {
        "id": "PVX0wLYH6KXk"
      }
    },
    {
      "cell_type": "code",
      "source": [
        "!pip install -q rouge bert_score"
      ],
      "metadata": {
        "colab": {
          "base_uri": "https://localhost:8080/"
        },
        "id": "f2i1lQIi6QGb",
        "outputId": "338a907c-701e-4deb-83ca-69dacd72d24b"
      },
      "execution_count": null,
      "outputs": [
        {
          "output_type": "stream",
          "name": "stdout",
          "text": [
            "\u001b[2K   \u001b[90m━━━━━━━━━━━━━━━━━━━━━━━━━━━━━━━━━━━━━━━━\u001b[0m \u001b[32m61.1/61.1 kB\u001b[0m \u001b[31m4.2 MB/s\u001b[0m eta \u001b[36m0:00:00\u001b[0m\n",
            "\u001b[2K   \u001b[90m━━━━━━━━━━━━━━━━━━━━━━━━━━━━━━━━━━━━━━━━\u001b[0m \u001b[32m363.4/363.4 MB\u001b[0m \u001b[31m4.6 MB/s\u001b[0m eta \u001b[36m0:00:00\u001b[0m\n",
            "\u001b[2K   \u001b[90m━━━━━━━━━━━━━━━━━━━━━━━━━━━━━━━━━━━━━━━━\u001b[0m \u001b[32m13.8/13.8 MB\u001b[0m \u001b[31m130.9 MB/s\u001b[0m eta \u001b[36m0:00:00\u001b[0m\n",
            "\u001b[2K   \u001b[90m━━━━━━━━━━━━━━━━━━━━━━━━━━━━━━━━━━━━━━━━\u001b[0m \u001b[32m24.6/24.6 MB\u001b[0m \u001b[31m111.8 MB/s\u001b[0m eta \u001b[36m0:00:00\u001b[0m\n",
            "\u001b[2K   \u001b[90m━━━━━━━━━━━━━━━━━━━━━━━━━━━━━━━━━━━━━━━━\u001b[0m \u001b[32m883.7/883.7 kB\u001b[0m \u001b[31m68.5 MB/s\u001b[0m eta \u001b[36m0:00:00\u001b[0m\n",
            "\u001b[2K   \u001b[90m━━━━━━━━━━━━━━━━━━━━━━━━━━━━━━━━━━━━━━━━\u001b[0m \u001b[32m664.8/664.8 MB\u001b[0m \u001b[31m1.3 MB/s\u001b[0m eta \u001b[36m0:00:00\u001b[0m\n",
            "\u001b[2K   \u001b[90m━━━━━━━━━━━━━━━━━━━━━━━━━━━━━━━━━━━━━━━━\u001b[0m \u001b[32m211.5/211.5 MB\u001b[0m \u001b[31m4.7 MB/s\u001b[0m eta \u001b[36m0:00:00\u001b[0m\n",
            "\u001b[2K   \u001b[90m━━━━━━━━━━━━━━━━━━━━━━━━━━━━━━━━━━━━━━━━\u001b[0m \u001b[32m56.3/56.3 MB\u001b[0m \u001b[31m9.3 MB/s\u001b[0m eta \u001b[36m0:00:00\u001b[0m\n",
            "\u001b[2K   \u001b[90m━━━━━━━━━━━━━━━━━━━━━━━━━━━━━━━━━━━━━━━━\u001b[0m \u001b[32m127.9/127.9 MB\u001b[0m \u001b[31m7.7 MB/s\u001b[0m eta \u001b[36m0:00:00\u001b[0m\n",
            "\u001b[2K   \u001b[90m━━━━━━━━━━━━━━━━━━━━━━━━━━━━━━━━━━━━━━━━\u001b[0m \u001b[32m207.5/207.5 MB\u001b[0m \u001b[31m2.3 MB/s\u001b[0m eta \u001b[36m0:00:00\u001b[0m\n",
            "\u001b[2K   \u001b[90m━━━━━━━━━━━━━━━━━━━━━━━━━━━━━━━━━━━━━━━━\u001b[0m \u001b[32m21.1/21.1 MB\u001b[0m \u001b[31m109.5 MB/s\u001b[0m eta \u001b[36m0:00:00\u001b[0m\n",
            "\u001b[?25h"
          ]
        }
      ]
    },
    {
      "cell_type": "code",
      "source": [
        "reference_summary1 = \"\"\"Into Thin Air is a harrowing nonfiction account of a catastrophic expedition to Mount Everest, written by\n",
        "journalist and mountaineer Jon Krakauer. The book chronicles the events of May 1996, when several climbing teams, including\n",
        "Krakauer’s, were caught in a deadly storm just after reaching the summit. It explores not only the physical dangers of\n",
        "high-altitude climbing but also the psychological and ethical complexities that arise in extreme environments.\n",
        "\n",
        "Krakauer joined the expedition as part of a journalistic assignment for Outside magazine, intending to report on the increasing\n",
        "commercialization of Everest. He climbed with Rob Hall’s Adventure Consultants team, while another prominent team was led by\n",
        "Scott Fischer of Mountain Madness. As the groups ascended the mountain, a series of poor decisions, delays, and deteriorating\n",
        "weather created a chain of events that spiraled out of control. On May 10th, despite the understanding that climbers should turn\n",
        "back by a certain time to avoid nightfall, several clients were still ascending past the agreed deadline. This delay proved fatal\n",
        "when a sudden blizzard struck during their descent.\n",
        "\n",
        "Caught in the storm, climbers lost visibility and direction. Communication broke down, oxygen supplies dwindled, and exhaustion\n",
        "took over. Guides like Hall and Fischer, both experienced and admired, were unable to save themselves or their clients.\n",
        "Some climbers died alone, while others succumbed after heroic attempts to descend. Beck Weathers, presumed dead after being left\n",
        "overnight in the storm, miraculously regained consciousness and staggered back to camp, though he suffered severe frostbite.\n",
        "\n",
        "Krakauer survived, but the experience left him traumatized and consumed by guilt, especially over decisions he made in the chaos.\n",
        "He reflects on the tragedy with a mixture of anger, sorrow, and introspection. The book also scrutinizes the broader issue of\n",
        "Everest tourism—the practice of guiding relatively inexperienced climbers to the summit for a fee, sometimes at the cost of safety\n",
        "and judgment.\n",
        "\n",
        "At its heart, Into Thin Air is not just a chronicle of a disastrous climb but a meditation on ambition, mortality, and the limits\n",
        "of human endurance. It questions what drives people to risk everything for a fleeting moment at the top of the world, and what\n",
        "happens when nature proves itself more powerful than preparation or desire.\"\"\"\n",
        "\n",
        "reference_summary2 = \"\"\"Krakauer describes the events leading up to his eventual decision to participate in an Everest expedition in May 1996, despite having mostly given up mountain climbing years before. Krakauer was a journalist for the adventure magazine Outside, and initially his intention to climb Everest had been purely professional. He had planned to climb only as far as the mountain's base camp, and to report on the commercialization of the mountain. However, the idea of going to Everest reawakened his childhood desire to climb the mountain. Krakauer asked his editor to put off publishing the story for a year so that he could train for a climb to the summit.\n",
        "\n",
        "From there, the book moves between describing events that took place on the mountain, and the unfolding tragedy, which occurs during the push to the summit. The 1996 disaster saw eight recorded deaths, including that of Krakauer's guide, Rob Hall. This is currently the third-highest recorded number of deaths on the mountain in a single day, with the 2015 Mount Everest avalanches causing the most at over 20. Krakauer concludes that essential safety methods that had been adopted over the years by experienced guides on Everest were sometimes compromised by the competition between rival guiding agencies to get their respective clients to the summit.\"\"\"\n",
        "\n",
        "generated_summary = \"\"\" *Into Thin Air* by Jon Krakauer is a gripping account of the tragic 1996 Mount Everest disaster, exploring\n",
        "the allure and perils of high-altitude mountaineering, the commercialization of Everest, and the profound ethical dilemmas faced by\n",
        "climbers in extreme circumstances.\n",
        "\n",
        "The book begins by providing historical context, detailing early attempts to summit Everest and highlighting the achievements of\n",
        "pioneers like Edmund Hillary and Tenzing Norgay. It then introduces Rob Hall, a seasoned guide who established Adventure Consultants,\n",
        "a company that catered to amateur climbers seeking to conquer the world's highest peak. Hall's success, however, drew criticism\n",
        "from figures like Hillary, who lamented the commercialization of Everest and the influx of inexperienced climbers.\n",
        "\n",
        "The narrative then focuses on the 1996 Adventure Consultants expedition, introducing a diverse group of clients, including the\n",
        "author, Jon Krakauer, and the socialite Sandy Hill Pittman. The expedition's journey to Base Camp is described in detail,\n",
        "highlighting the physical hardships, the stunning yet unforgiving environment, and the presence of rival expeditions,\n",
        "including Scott Fischer's Mountain Madness team.\n",
        "\n",
        "As the climbers acclimatize and prepare for their summit attempt, the book delves into the complex dynamics between the various\n",
        "teams, the Sherpas, and the challenges of managing a large group of climbers at high altitude. The narrative also introduces the\n",
        "medical crisis of Ngawang Topche, a Sherpa who develops High Altitude Pulmonary Edema (HAPE), underscoring the ever-present threat\n",
        "of altitude-related illnesses.\n",
        "\n",
        "The heart of the book recounts the ill-fated summit attempt on May 10, 1996. Despite favorable weather conditions initially, a\n",
        "series of miscalculations, delays, and the sheer number of climbers on the mountain contribute to a catastrophic situation. As the\n",
        "climbers ascend, the weather deteriorates rapidly, trapping many near the summit in a blinding blizzard.\n",
        "\n",
        "The descent becomes a desperate struggle for survival, with climbers becoming disoriented, running out of oxygen, and succumbing to\n",
        " exhaustion and hypothermia. The book vividly portrays the chaos and confusion on the South Col, where climbers huddle together for\n",
        " warmth, battling the elements and their own failing bodies.\n",
        "\n",
        "Amidst the chaos, acts of heroism and selflessness are juxtaposed with difficult decisions and ethical compromises.\n",
        "Anatoli Boukreev, a guide with Mountain Madness, makes several courageous rescue attempts, while other climbers are forced\n",
        "to make agonizing choices about who to save and who to leave behind. The book also explores the controversial decision of a\n",
        "Japanese team to continue their ascent without assisting three struggling Ladakhi climbers, who later died.\n",
        "\n",
        "The book culminates in the tragic deaths of Rob Hall, Doug Hansen, Andy Harris, Yasuko Namba, and Scott Fischer, among others.\n",
        "Krakauer recounts the desperate attempts to rescue Hall, who is stranded near the summit, and the confusion surrounding the fate\n",
        "of Harris. The book also details the miraculous survival of Beck Weathers, who is left for dead but manages to find his way back to\n",
        "camp.\n",
        "\n",
        "In the aftermath of the disaster, Krakauer grapples with survivor's guilt and attempts to reconstruct the events of that fateful\n",
        "day, seeking to understand what went wrong and to honor the memory of those who perished. *Into Thin Air* is a powerful and\n",
        "cautionary tale about the allure of Everest, the dangers of commercialization, and the profound ethical challenges faced by\n",
        "climbers in the death zone.\"\"\"\n",
        "\n"
      ],
      "metadata": {
        "id": "ezIEsaPV4vhg"
      },
      "execution_count": null,
      "outputs": []
    },
    {
      "cell_type": "code",
      "source": [
        "import nltk\n",
        "nltk.download('wordnet')\n",
        "nltk.download('omw-1.4')  # Optional but recommended for full WordNet support"
      ],
      "metadata": {
        "colab": {
          "base_uri": "https://localhost:8080/"
        },
        "id": "esPuTieJ7aDD",
        "outputId": "6399e8ab-5e1b-4e47-8eff-9eac47071300"
      },
      "execution_count": null,
      "outputs": [
        {
          "output_type": "stream",
          "name": "stderr",
          "text": [
            "[nltk_data] Downloading package wordnet to /root/nltk_data...\n",
            "[nltk_data]   Package wordnet is already up-to-date!\n",
            "[nltk_data] Downloading package omw-1.4 to /root/nltk_data...\n",
            "[nltk_data]   Package omw-1.4 is already up-to-date!\n"
          ]
        },
        {
          "output_type": "execute_result",
          "data": {
            "text/plain": [
              "True"
            ]
          },
          "metadata": {},
          "execution_count": 97
        }
      ]
    },
    {
      "cell_type": "code",
      "source": [
        "from rouge import Rouge\n",
        "from nltk.translate.bleu_score import sentence_bleu, SmoothingFunction\n",
        "from nltk.translate.meteor_score import meteor_score\n",
        "from bert_score import score as bert_score\n",
        "\n",
        "def evaluate_summary(generated_summary, reference_summary):\n",
        "    print(\"\\n🔍 Preview of Generated Summary:\\n\", generated_summary[:300], \"...\\n\")\n",
        "    print(\"📘 Preview of Reference Summary:\\n\", reference_summary[:300], \"...\\n\")\n",
        "\n",
        "    # Smoothing for BLEU to avoid zero scores\n",
        "    smoothie = SmoothingFunction().method4\n",
        "\n",
        "    # ROUGE\n",
        "    rouge = Rouge()\n",
        "    rouge_scores = rouge.get_scores(generated_summary, reference_summary)[0]\n",
        "\n",
        "    # BLEU\n",
        "    bleu = sentence_bleu([reference_summary.split()], generated_summary.split(), smoothing_function=smoothie)\n",
        "\n",
        "    # ✅ FIXED: METEOR expects tokenized input\n",
        "    meteor = meteor_score([reference_summary.split()], generated_summary.split())\n",
        "\n",
        "    # BERTScore\n",
        "    P, R, F1 = bert_score([generated_summary], [reference_summary], lang=\"en\", rescale_with_baseline=True)\n",
        "\n",
        "    print(\"\\n==== 📊 Evaluation Metrics ====\")\n",
        "    print(\"🔴 ROUGE-1: \", rouge_scores['rouge-1'])\n",
        "    print(\"🟠 ROUGE-2: \", rouge_scores['rouge-2'])\n",
        "    print(\"🟡 ROUGE-L: \", rouge_scores['rouge-l'])\n",
        "    print(\"🔵 BLEU:    \", round(bleu, 4))\n",
        "    print(\"🟣 METEOR:  \", round(meteor, 4))\n",
        "    print(\"🟢 BERTScore (F1):\", round(F1.item(), 4))\n"
      ],
      "metadata": {
        "id": "ifgvBUHL4kcH"
      },
      "execution_count": null,
      "outputs": []
    },
    {
      "cell_type": "code",
      "source": [
        "evaluate_summary(generated_summary, reference_summary1)"
      ],
      "metadata": {
        "colab": {
          "base_uri": "https://localhost:8080/",
          "height": 714,
          "referenced_widgets": [
            "def61258926245b1aea95ba379d9b886",
            "5b046237c59441b49599ba474763e963",
            "0c312ac646f34380aa37e1e2331ea568",
            "58260880d590471395fb08416384824c",
            "b88e7ae98fbe4c76a9b6e01c7246f1d4",
            "01b610f8a5194190b68ca0b646e46a26",
            "5205abee3fbd486492fedf6fe10e6217",
            "cd981c14433c4a419a0e38bea542cdde",
            "e7674650e15641188e3cd4cc0436abdc",
            "5d82039ebe064503b9d377217a10400f",
            "f9d41d1e836c408d8b04c9511e8bd714",
            "58fe3885b61746d9b3959000b47e40c3",
            "a07d03f963c044cb978589f565b48e7f",
            "9dcdb7cd664f4822acd94c35fb1ebda6",
            "f6e827ad7ba04c69a9ccbdcb6664a237",
            "61215a57cb764ba8950f5e727a4f0a32",
            "b4de8afe871e4d8baf02de22a7df81a1",
            "675364346ea3494fb7568222465e2947",
            "a48568a6a4994352b1639e17dde7abf6",
            "dec5cde5ef5a40f78b70d250f4665755",
            "46fa839160364e6ab71eb6e299c594af",
            "06e5eff635bf4bd395dc1af4d24a015a",
            "89ad56b908064e20a33437ded897367e",
            "222aef39376a4eafb6e0ba41feae7dc9",
            "f680c08a4cb74bf6970494de2a5ffe0a",
            "18458bf2e37944dda16041e8cff82615",
            "0c7f1f739a604542b8f9c3b0c77d7d1a",
            "da881acfd80b45929625293677a73243",
            "e582c921bb7a40ea818d782118c16a2c",
            "11fb0d25da07497e913c7f4b93f27943",
            "e033cb629960494e88a313504034677d",
            "0383d24d70244334af8de33a7609e378",
            "85423b75b3094118b321650b44de07d8",
            "714911dcec184046b3ed8cbc12c59502",
            "064a46c27a7848e89313d362c4100701",
            "2c576865d4944496bdbf6f15b3dd9ace",
            "7805d38ccc1546ea937ababb08de2f31",
            "2fe95d3b711a4c24a2ca26c035560dca",
            "2e73c705d04640fda83490ac95d142b9",
            "05bfe22b52e74c8aac9a730e7b02036b",
            "ea172ad82c6f4646a2f5ac16f33f98f5",
            "eb0af20e7b27409e866f919faaf2993e",
            "f4aa3957d2dd44a6810f7bcb80c6c25e",
            "94657afcbd0b40a2aa9534c04c32f307",
            "7b7d65f33f76444ea7c811778e87916c",
            "d9ee25d9e35649b7a5b7f537c34ce00e",
            "cfa4827e4408444ebe986db6b9a3a271",
            "87fe48fb0d1f4376b46821967262b3c2",
            "2eb9b6e112304e74be0730c15289b87e",
            "004a44ea677d46e4ba5ac4c27389f72e",
            "519699fa8ab74819a266f0528aa130b1",
            "bb4b0d75822445458d22417ebd2373ee",
            "f10c2342f17b4b688aa34148ef66db1b",
            "8bffd276419346f78d372c5ea5065e03",
            "3039621b775447768d4d77c24f3078f3",
            "13bb31ffe52d420cb9fdd5b799f2c340",
            "3f0971cbfbb34dc0945a508a38dc926b",
            "dc50a44fca3f42c9806baec807a63426",
            "70ba7dcd96e749968436f9fe40178938",
            "75b960aa919e4743b6674b1dc19172ba",
            "e0ad535c36df4758a087ebcde08e0b2b",
            "3bbaeb650e254948a64e9f535ef09926",
            "f29a1dfdd21142eea82fe27bf52db509",
            "038ec0814316407d99a1bbbfc7264c24",
            "f7b61d45aba84f3f80c62f0274825b7c",
            "25004a0f2d164f24bb191331aa9f948a"
          ]
        },
        "id": "lTz4utC76Bd1",
        "outputId": "27e37128-2b22-437b-8b51-a9a7a712e21c"
      },
      "execution_count": null,
      "outputs": [
        {
          "output_type": "stream",
          "name": "stdout",
          "text": [
            "\n",
            "🔍 Preview of Generated Summary:\n",
            " The aftermath of the disastrous day is recounted, highlighting the difficult decisions and grim realities \n",
            "faced by the surviving climbers. The narrative describes the deaths or near-death states of key members of the team, including \n",
            "Rob Hall, Andy Harris, Doug Hansen, Yasuko Namba, Beck Weathers,  ...\n",
            "\n",
            "📘 Preview of Reference Summary:\n",
            " Krakauer describes the events leading up to his eventual decision to participate in an Everest expedition\n",
            "in May 1996, despite having mostly given up mountain climbing years before. Krakauer was a journalist for the adventure magazine \n",
            "Outside, and initially his intention to climb Everest had been p ...\n",
            "\n"
          ]
        },
        {
          "output_type": "stream",
          "name": "stderr",
          "text": [
            "/usr/local/lib/python3.11/dist-packages/huggingface_hub/utils/_auth.py:94: UserWarning: \n",
            "The secret `HF_TOKEN` does not exist in your Colab secrets.\n",
            "To authenticate with the Hugging Face Hub, create a token in your settings tab (https://huggingface.co/settings/tokens), set it as secret in your Google Colab and restart your session.\n",
            "You will be able to reuse this secret in all of your notebooks.\n",
            "Please note that authentication is recommended but still optional to access public models or datasets.\n",
            "  warnings.warn(\n"
          ]
        },
        {
          "output_type": "display_data",
          "data": {
            "text/plain": [
              "tokenizer_config.json:   0%|          | 0.00/25.0 [00:00<?, ?B/s]"
            ],
            "application/vnd.jupyter.widget-view+json": {
              "version_major": 2,
              "version_minor": 0,
              "model_id": "def61258926245b1aea95ba379d9b886"
            }
          },
          "metadata": {}
        },
        {
          "output_type": "display_data",
          "data": {
            "text/plain": [
              "config.json:   0%|          | 0.00/482 [00:00<?, ?B/s]"
            ],
            "application/vnd.jupyter.widget-view+json": {
              "version_major": 2,
              "version_minor": 0,
              "model_id": "58fe3885b61746d9b3959000b47e40c3"
            }
          },
          "metadata": {}
        },
        {
          "output_type": "display_data",
          "data": {
            "text/plain": [
              "vocab.json:   0%|          | 0.00/899k [00:00<?, ?B/s]"
            ],
            "application/vnd.jupyter.widget-view+json": {
              "version_major": 2,
              "version_minor": 0,
              "model_id": "89ad56b908064e20a33437ded897367e"
            }
          },
          "metadata": {}
        },
        {
          "output_type": "display_data",
          "data": {
            "text/plain": [
              "merges.txt:   0%|          | 0.00/456k [00:00<?, ?B/s]"
            ],
            "application/vnd.jupyter.widget-view+json": {
              "version_major": 2,
              "version_minor": 0,
              "model_id": "714911dcec184046b3ed8cbc12c59502"
            }
          },
          "metadata": {}
        },
        {
          "output_type": "display_data",
          "data": {
            "text/plain": [
              "tokenizer.json:   0%|          | 0.00/1.36M [00:00<?, ?B/s]"
            ],
            "application/vnd.jupyter.widget-view+json": {
              "version_major": 2,
              "version_minor": 0,
              "model_id": "7b7d65f33f76444ea7c811778e87916c"
            }
          },
          "metadata": {}
        },
        {
          "output_type": "display_data",
          "data": {
            "text/plain": [
              "model.safetensors:   0%|          | 0.00/1.42G [00:00<?, ?B/s]"
            ],
            "application/vnd.jupyter.widget-view+json": {
              "version_major": 2,
              "version_minor": 0,
              "model_id": "13bb31ffe52d420cb9fdd5b799f2c340"
            }
          },
          "metadata": {}
        },
        {
          "output_type": "stream",
          "name": "stderr",
          "text": [
            "Some weights of RobertaModel were not initialized from the model checkpoint at roberta-large and are newly initialized: ['pooler.dense.bias', 'pooler.dense.weight']\n",
            "You should probably TRAIN this model on a down-stream task to be able to use it for predictions and inference.\n"
          ]
        },
        {
          "output_type": "stream",
          "name": "stdout",
          "text": [
            "\n",
            "==== 📊 Evaluation Metrics ====\n",
            "🔴 ROUGE-1:  {'r': 0.1417910447761194, 'p': 0.19, 'f': 0.16239315749872174}\n",
            "🟠 ROUGE-2:  {'r': 0.025, 'p': 0.037037037037037035, 'f': 0.029850741456895407}\n",
            "🟡 ROUGE-L:  {'r': 0.13432835820895522, 'p': 0.18, 'f': 0.15384614895171322}\n",
            "🔵 BLEU:     0.0097\n",
            "🟣 METEOR:   0.1192\n",
            "🟢 BERTScore (F1): 0.0074\n"
          ]
        }
      ]
    },
    {
      "cell_type": "code",
      "source": [
        "evaluate_summary(generated_summary, reference_summary1)\n",
        "evaluate_summary(generated_summary, reference_summary2)"
      ],
      "metadata": {
        "colab": {
          "base_uri": "https://localhost:8080/"
        },
        "id": "2gvoBRk_WOGR",
        "outputId": "b8ff4343-6cce-4e46-8a13-91360ab80ac8"
      },
      "execution_count": null,
      "outputs": [
        {
          "output_type": "stream",
          "name": "stdout",
          "text": [
            "\n",
            "🔍 Preview of Generated Summary:\n",
            "  *Into Thin Air* by Jon Krakauer is a gripping account of the tragic 1996 Mount Everest disaster, exploring \n",
            "the allure and perils of high-altitude mountaineering, the commercialization of Everest, and the profound ethical dilemmas faced by \n",
            "climbers in extreme circumstances.\n",
            "\n",
            "The book begins by pro ...\n",
            "\n",
            "📘 Preview of Reference Summary:\n",
            " Into Thin Air is a harrowing nonfiction account of a catastrophic expedition to Mount Everest, written by \n",
            "journalist and mountaineer Jon Krakauer. The book chronicles the events of May 1996, when several climbing teams, including \n",
            "Krakauer’s, were caught in a deadly storm just after reaching the su ...\n",
            "\n"
          ]
        },
        {
          "output_type": "stream",
          "name": "stderr",
          "text": [
            "Some weights of RobertaModel were not initialized from the model checkpoint at roberta-large and are newly initialized: ['pooler.dense.bias', 'pooler.dense.weight']\n",
            "You should probably TRAIN this model on a down-stream task to be able to use it for predictions and inference.\n"
          ]
        },
        {
          "output_type": "stream",
          "name": "stdout",
          "text": [
            "\n",
            "==== 📊 Evaluation Metrics ====\n",
            "🔴 ROUGE-1:  {'r': 0.2979591836734694, 'p': 0.23624595469255663, 'f': 0.2635379012039125}\n",
            "🟠 ROUGE-2:  {'r': 0.09915014164305949, 'p': 0.07128309572301425, 'f': 0.08293838375926557}\n",
            "🟡 ROUGE-L:  {'r': 0.2693877551020408, 'p': 0.21359223300970873, 'f': 0.2382671430811689}\n",
            "🔵 BLEU:     0.0186\n",
            "🟣 METEOR:   0.2592\n",
            "🟢 BERTScore (F1): 0.1816\n",
            "\n",
            "🔍 Preview of Generated Summary:\n",
            "  *Into Thin Air* by Jon Krakauer is a gripping account of the tragic 1996 Mount Everest disaster, exploring \n",
            "the allure and perils of high-altitude mountaineering, the commercialization of Everest, and the profound ethical dilemmas faced by \n",
            "climbers in extreme circumstances.\n",
            "\n",
            "The book begins by pro ...\n",
            "\n",
            "📘 Preview of Reference Summary:\n",
            " Krakauer describes the events leading up to his eventual decision to participate in an Everest expedition in May 1996, despite having mostly given up mountain climbing years before. Krakauer was a journalist for the adventure magazine Outside, and initially his intention to climb Everest had been pu ...\n",
            "\n"
          ]
        },
        {
          "output_type": "stream",
          "name": "stderr",
          "text": [
            "Some weights of RobertaModel were not initialized from the model checkpoint at roberta-large and are newly initialized: ['pooler.dense.bias', 'pooler.dense.weight']\n",
            "You should probably TRAIN this model on a down-stream task to be able to use it for predictions and inference.\n"
          ]
        },
        {
          "output_type": "stream",
          "name": "stdout",
          "text": [
            "\n",
            "==== 📊 Evaluation Metrics ====\n",
            "🔴 ROUGE-1:  {'r': 0.2537313432835821, 'p': 0.11003236245954692, 'f': 0.15349886711208732}\n",
            "🟠 ROUGE-2:  {'r': 0.065, 'p': 0.026476578411405296, 'f': 0.03762662396200103}\n",
            "🟡 ROUGE-L:  {'r': 0.22388059701492538, 'p': 0.0970873786407767, 'f': 0.13544017636716635}\n",
            "🔵 BLEU:     0.0116\n",
            "🟣 METEOR:   0.222\n",
            "🟢 BERTScore (F1): 0.0217\n"
          ]
        }
      ]
    },
    {
      "cell_type": "markdown",
      "source": [
        "We used a clustering-based strategy to:\n",
        "\n",
        "- Identify representative thematic chunks from across the book.\n",
        "\n",
        "- Generate detailed, localized summaries of those clusters.\n",
        "\n",
        "- Combine them into a verbose summary that zooms in on diverse key scenes.\n",
        "\n",
        "But metrics like ROUGE, BLEU, METEOR are built to compare against:\n",
        "\n",
        "- Single-reference summaries that are usually zoomed out, high-level, abstracted and often written for different goals: e.g., Wikipedia emphasizes conciseness, not emotional detail or structure\n",
        "\n",
        "\n",
        "So the scores aren't telling you “your summary is bad” — they're telling you “your summary is different.”\n",
        "\n"
      ],
      "metadata": {
        "id": "mV73ETcw9He6"
      }
    },
    {
      "cell_type": "markdown",
      "source": [
        "#LETS DO EMBEDDING EVALUATION THEN"
      ],
      "metadata": {
        "id": "2EGyNme0B6uc"
      }
    },
    {
      "cell_type": "code",
      "source": [
        "from langchain_google_genai import GoogleGenerativeAIEmbeddings\n",
        "import numpy as np\n",
        "from sklearn.metrics.pairwise import cosine_similarity\n",
        "\n",
        "# Initialize the embedding model\n",
        "embeddings = GoogleGenerativeAIEmbeddings(model=\"models/embedding-001\")\n",
        "\n",
        "# Convert summaries into 1536-dim embeddings\n",
        "generated_vec = embeddings.embed_query(generated_summary)\n",
        "reference1_vec = embeddings.embed_query(reference_summary1)\n",
        "reference2_vec = embeddings.embed_query(reference_summary2)\n"
      ],
      "metadata": {
        "id": "xYBpy0OhB57f"
      },
      "execution_count": null,
      "outputs": []
    },
    {
      "cell_type": "code",
      "source": [
        "# Convert to NumPy arrays\n",
        "gen_array = np.array(generated_vec).reshape(1, -1)\n",
        "ref1_array = np.array(reference1_vec).reshape(1, -1)\n",
        "ref2_array = np.array(reference2_vec).reshape(1, -1)\n",
        "\n",
        "\n",
        "# Cosine similarity\n",
        "similarity_AI_ref = cosine_similarity(gen_array, ref1_array)[0][0]\n",
        "similarity_wiki_ref = cosine_similarity(gen_array, ref2_array)[0][0]\n",
        "\n",
        "print(f\"🔗 Semantic Similarity Score with AI generated reference summary: {similarity_AI_ref:.4f}\")\n",
        "print(f\"📚 Semantic Similarity Score with WikiPedia's reference summary: {similarity_wiki_ref:.4f}\")"
      ],
      "metadata": {
        "colab": {
          "base_uri": "https://localhost:8080/"
        },
        "id": "d_bF5STm9F2l",
        "outputId": "b6bce0ec-eaf5-4ec4-ef09-180863e8a460"
      },
      "execution_count": null,
      "outputs": [
        {
          "output_type": "stream",
          "name": "stdout",
          "text": [
            "🔗 Semantic Similarity Score: 0.9293\n",
            "📚 Semantic Similarity Score: 0.8307\n"
          ]
        }
      ]
    }
  ]
}